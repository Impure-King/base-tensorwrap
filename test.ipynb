{
 "cells": [
  {
   "cell_type": "code",
   "execution_count": 1,
   "metadata": {},
   "outputs": [
    {
     "data": {
      "text/plain": [
       "('0.0.0.4',\n",
       " None,\n",
       " [StreamExecutorGpuDevice(id=0, process_index=0, slice_index=0)])"
      ]
     },
     "execution_count": 1,
     "metadata": {},
     "output_type": "execute_result"
    }
   ],
   "source": [
    "import tensorwrap as tf\n",
    "tf.__version__, tf.config.set_visible_devices(\"cpu\"), tf.config.list_physical_devices(\"GPU\")"
   ]
  },
  {
   "cell_type": "code",
   "execution_count": 2,
   "metadata": {},
   "outputs": [],
   "source": [
    "from tensorwrap import nn"
   ]
  },
  {
   "cell_type": "code",
   "execution_count": 3,
   "metadata": {},
   "outputs": [],
   "source": [
    "layer = tf.nn.layers.Dense(units = 10)\n",
    "layer1 = tf.nn.layers.Dense(units = 1)"
   ]
  },
  {
   "cell_type": "code",
   "execution_count": 4,
   "metadata": {},
   "outputs": [],
   "source": [
    "x = tf.range(1, 10e7, dtype=tf.float16)\n",
    "x /= 100\n",
    "x = tf.expand_dims(x, axis = 1)"
   ]
  },
  {
   "cell_type": "code",
   "execution_count": 5,
   "metadata": {},
   "outputs": [],
   "source": [
    "model = nn.Sequential([\n",
    "    layer1\n",
    "])"
   ]
  },
  {
   "cell_type": "code",
   "execution_count": 6,
   "metadata": {},
   "outputs": [],
   "source": [
    "model.compile(\n",
    "    loss = tf.nn.losses.mse,\n",
    "    optimizer = tf.nn.optimizers.SGD(),\n",
    ")"
   ]
  },
  {
   "cell_type": "code",
   "execution_count": 7,
   "metadata": {},
   "outputs": [
    {
     "name": "stdout",
     "output_type": "stream",
     "text": [
      "Epoch 1|5 \n",
      "[=========================]    Loss:        nan     Metric:        nan\n",
      "Epoch 2|5 \n",
      "[=========================]    Loss:        nan     Metric:        nan\n",
      "Epoch 3|5 \n",
      "[=========================]    Loss:        nan     Metric:        nan\n",
      "Epoch 4|5 \n",
      "[=========================]    Loss:        nan     Metric:        nan\n",
      "Epoch 5|5 \n",
      "[=========================]    Loss:        nan     Metric:        nan\n",
      "CPU times: user 5.49 s, sys: 10.6 s, total: 16.1 s\n",
      "Wall time: 5.12 s\n"
     ]
    }
   ],
   "source": [
    "%time model.fit(x, x+10, epochs = 5)"
   ]
  },
  {
   "cell_type": "code",
   "execution_count": null,
   "metadata": {},
   "outputs": [],
   "source": []
  }
 ],
 "metadata": {
  "kernelspec": {
   "display_name": "TensorWrap",
   "language": "python",
   "name": "python3"
  },
  "language_info": {
   "codemirror_mode": {
    "name": "ipython",
    "version": 3
   },
   "file_extension": ".py",
   "mimetype": "text/x-python",
   "name": "python",
   "nbconvert_exporter": "python",
   "pygments_lexer": "ipython3",
   "version": "3.10.8"
  },
  "orig_nbformat": 4,
  "vscode": {
   "interpreter": {
    "hash": "da53633a286fdc5fa9862d67a3a85a7eec918dfea906e3018d3e6a5fef740b93"
   }
  }
 },
 "nbformat": 4,
 "nbformat_minor": 2
}
