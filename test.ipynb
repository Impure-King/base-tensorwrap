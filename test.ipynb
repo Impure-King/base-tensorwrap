{
 "cells": [
  {
   "cell_type": "code",
   "execution_count": 1,
   "metadata": {},
   "outputs": [
    {
     "data": {
      "text/plain": [
       "('0.0.0.3', True)"
      ]
     },
     "execution_count": 1,
     "metadata": {},
     "output_type": "execute_result"
    }
   ],
   "source": [
    "import tensorwrap as tf\n",
    "from tensorwrap import nn\n",
    "tf.__version__, tf.test.is_device_available('cuda')"
   ]
  },
  {
   "cell_type": "code",
   "execution_count": 2,
   "metadata": {},
   "outputs": [],
   "source": [
    "layer = nn.layers.Linear(units = 1)\n",
    "layer1 = nn.layers.Linear(units = 100)"
   ]
  },
  {
   "cell_type": "code",
   "execution_count": 3,
   "metadata": {},
   "outputs": [],
   "source": [
    "array = tf.Variable([1, 2, 3, 4, 5])\n",
    "array = tf.reshape(array, (-1, 1))"
   ]
  },
  {
   "cell_type": "code",
   "execution_count": 4,
   "metadata": {},
   "outputs": [
    {
     "name": "stdout",
     "output_type": "stream",
     "text": [
      "Epoch 1 complete - - - - - -  Metrics: 40.45892333984375\n",
      "Epoch 2 complete - - - - - -  Metrics: 4.000686168670654\n",
      "Epoch 3 complete - - - - - -  Metrics: 81.13024139404297\n",
      "Epoch 4 complete - - - - - -  Metrics: 14.4287691116333\n",
      "Epoch 5 complete - - - - - -  Metrics: 14.4287691116333\n",
      "Epoch 6 complete - - - - - -  Metrics: 14.618685722351074\n",
      "Epoch 7 complete - - - - - -  Metrics: 3.584974765777588\n",
      "Epoch 8 complete - - - - - -  Metrics: 3.7581124305725098\n",
      "Epoch 9 complete - - - - - -  Metrics: 21.90378761291504\n",
      "Epoch 10 complete - - - - - -  Metrics: 3.584974765777588\n",
      "Epoch 11 complete - - - - - -  Metrics: 36.94126510620117\n",
      "Epoch 12 complete - - - - - -  Metrics: 3.9111344814300537\n",
      "Epoch 13 complete - - - - - -  Metrics: 3.6181583404541016\n",
      "Epoch 14 complete - - - - - -  Metrics: 17.411457061767578\n",
      "Epoch 15 complete - - - - - -  Metrics: 39.21641540527344\n",
      "Epoch 16 complete - - - - - -  Metrics: 61.3110237121582\n",
      "Epoch 17 complete - - - - - -  Metrics: 3.692157745361328\n",
      "Epoch 18 complete - - - - - -  Metrics: 3.910109758377075\n",
      "Epoch 19 complete - - - - - -  Metrics: 4.637056827545166\n",
      "Epoch 20 complete - - - - - -  Metrics: 4.39910888671875\n",
      "Epoch 21 complete - - - - - -  Metrics: 3.6129074096679688\n",
      "Epoch 22 complete - - - - - -  Metrics: 3.680971622467041\n",
      "Epoch 23 complete - - - - - -  Metrics: 3.9111344814300537\n",
      "Epoch 24 complete - - - - - -  Metrics: 61.3110237121582\n",
      "Epoch 25 complete - - - - - -  Metrics: 41.23054122924805\n",
      "Epoch 26 complete - - - - - -  Metrics: 3.910109758377075\n",
      "Epoch 27 complete - - - - - -  Metrics: 33.121551513671875\n",
      "Epoch 28 complete - - - - - -  Metrics: 53.982032775878906\n",
      "Epoch 29 complete - - - - - -  Metrics: 41.17048645019531\n",
      "Epoch 30 complete - - - - - -  Metrics: 5.00436544418335\n",
      "Epoch 31 complete - - - - - -  Metrics: 40.458919525146484\n",
      "Epoch 32 complete - - - - - -  Metrics: 48.53218460083008\n",
      "Epoch 33 complete - - - - - -  Metrics: 3.636793613433838\n",
      "Epoch 34 complete - - - - - -  Metrics: 36.75172805786133\n",
      "Epoch 35 complete - - - - - -  Metrics: 58.2357292175293\n",
      "Epoch 36 complete - - - - - -  Metrics: 41.17049026489258\n",
      "Epoch 37 complete - - - - - -  Metrics: 3.594653367996216\n",
      "Epoch 38 complete - - - - - -  Metrics: 3.6645302772521973\n",
      "Epoch 39 complete - - - - - -  Metrics: 40.45892333984375\n",
      "Epoch 40 complete - - - - - -  Metrics: 81.13024139404297\n",
      "Epoch 41 complete - - - - - -  Metrics: 4.208542823791504\n",
      "Epoch 42 complete - - - - - -  Metrics: 4.554276943206787\n",
      "Epoch 43 complete - - - - - -  Metrics: 4.208542823791504\n",
      "Epoch 44 complete - - - - - -  Metrics: 23.209978103637695\n",
      "Epoch 45 complete - - - - - -  Metrics: 88.92596435546875\n",
      "Epoch 46 complete - - - - - -  Metrics: 4.208542823791504\n",
      "Epoch 47 complete - - - - - -  Metrics: 4.208542823791504\n",
      "Epoch 48 complete - - - - - -  Metrics: 27.63511085510254\n",
      "Epoch 49 complete - - - - - -  Metrics: 31.900070190429688\n",
      "Epoch 50 complete - - - - - -  Metrics: 3.6181583404541016\n",
      "Epoch 51 complete - - - - - -  Metrics: 39.21641540527344\n",
      "Epoch 52 complete - - - - - -  Metrics: 3.594653367996216\n",
      "Epoch 53 complete - - - - - -  Metrics: 14.4287691116333\n",
      "Epoch 54 complete - - - - - -  Metrics: 52.915584564208984\n",
      "Epoch 55 complete - - - - - -  Metrics: 3.9111344814300537\n",
      "Epoch 56 complete - - - - - -  Metrics: 19.8436336517334\n",
      "Epoch 57 complete - - - - - -  Metrics: 5.596019744873047\n",
      "Epoch 58 complete - - - - - -  Metrics: 3.970280408859253\n",
      "Epoch 59 complete - - - - - -  Metrics: 47.79053497314453\n",
      "Epoch 60 complete - - - - - -  Metrics: 4.549440860748291\n",
      "Epoch 61 complete - - - - - -  Metrics: 59.93081283569336\n",
      "Epoch 62 complete - - - - - -  Metrics: 3.910109758377075\n",
      "Epoch 63 complete - - - - - -  Metrics: 59.93081283569336\n",
      "Epoch 64 complete - - - - - -  Metrics: 4.554276943206787\n",
      "Epoch 65 complete - - - - - -  Metrics: 26.75146484375\n",
      "Epoch 66 complete - - - - - -  Metrics: 3.758112668991089\n",
      "Epoch 67 complete - - - - - -  Metrics: 17.411457061767578\n",
      "Epoch 68 complete - - - - - -  Metrics: 3.970280408859253\n",
      "Epoch 69 complete - - - - - -  Metrics: 88.92596435546875\n",
      "Epoch 70 complete - - - - - -  Metrics: 60.90155029296875\n",
      "Epoch 71 complete - - - - - -  Metrics: 61.3110237121582\n",
      "Epoch 72 complete - - - - - -  Metrics: 26.75146484375\n",
      "Epoch 73 complete - - - - - -  Metrics: 19.390775680541992\n",
      "Epoch 74 complete - - - - - -  Metrics: 4.208542823791504\n",
      "Epoch 75 complete - - - - - -  Metrics: 3.6181581020355225\n",
      "Epoch 76 complete - - - - - -  Metrics: 3.943509340286255\n",
      "Epoch 77 complete - - - - - -  Metrics: 4.508243083953857\n",
      "Epoch 78 complete - - - - - -  Metrics: 23.209976196289062\n",
      "Epoch 79 complete - - - - - -  Metrics: 59.93081283569336\n",
      "Epoch 80 complete - - - - - -  Metrics: 7.951650142669678\n",
      "Epoch 81 complete - - - - - -  Metrics: 41.67777633666992\n",
      "Epoch 82 complete - - - - - -  Metrics: 58.2357292175293\n",
      "Epoch 83 complete - - - - - -  Metrics: 61.3110237121582\n",
      "Epoch 84 complete - - - - - -  Metrics: 23.410608291625977\n",
      "Epoch 85 complete - - - - - -  Metrics: 14.4287691116333\n",
      "Epoch 86 complete - - - - - -  Metrics: 41.47063064575195\n",
      "Epoch 87 complete - - - - - -  Metrics: 5.523573398590088\n",
      "Epoch 88 complete - - - - - -  Metrics: 61.71262741088867\n",
      "Epoch 89 complete - - - - - -  Metrics: 41.17048645019531\n",
      "Epoch 90 complete - - - - - -  Metrics: 3.6954734325408936\n",
      "Epoch 91 complete - - - - - -  Metrics: 61.71262741088867\n",
      "Epoch 92 complete - - - - - -  Metrics: 52.915584564208984\n",
      "Epoch 93 complete - - - - - -  Metrics: 41.67777633666992\n",
      "Epoch 94 complete - - - - - -  Metrics: 27.63511085510254\n",
      "Epoch 95 complete - - - - - -  Metrics: 41.47063064575195\n",
      "Epoch 96 complete - - - - - -  Metrics: 21.90378761291504\n",
      "Epoch 97 complete - - - - - -  Metrics: 3.636793613433838\n",
      "Epoch 98 complete - - - - - -  Metrics: 14.618685722351074\n",
      "Epoch 99 complete - - - - - -  Metrics: 28.130868911743164\n",
      "Epoch 100 complete - - - - - -  Metrics: 88.92596435546875\n"
     ]
    }
   ],
   "source": [
    "model = tf.nn.Sequential([\n",
    "    layer,\n",
    "    layer1,\n",
    "    layer\n",
    "])\n",
    "\n",
    "model.compile(\n",
    "    loss = tf.nn.losses.mse,\n",
    "    optimizer = tf.nn.optimizers.SGD(learning_rate=0.1),\n",
    "    metrics = tf.nn.losses.mae\n",
    ")\n",
    "model.fit(array, array + 10, epochs = 100)"
   ]
  },
  {
   "cell_type": "code",
   "execution_count": 5,
   "metadata": {},
   "outputs": [
    {
     "name": "stdout",
     "output_type": "stream",
     "text": [
      "4.0\n"
     ]
    }
   ],
   "source": [
    "import tensorwrap as tf\n",
    "from tensorwrap import nn\n",
    "tf.test.is_device_available(device_type = 'cuda')\n",
    "\n",
    "@tf.function\n",
    "def mse(y_pred, y_true):\n",
    "    return tf.mean(tf.square(y_pred - y_true))\n",
    "\n",
    "print(mse(100, 102))"
   ]
  },
  {
   "cell_type": "code",
   "execution_count": 6,
   "metadata": {},
   "outputs": [],
   "source": [
    "import tensorwrap as tf\n",
    "from tensorwrap import nn\n",
    "\n",
    "class Dense(nn.layers.Layer):\n",
    "    def __init__(self, units) -> None:\n",
    "        super().__init__() # Needed for making it JIT compatible.\n",
    "        self.units = units # Defining the output shape.\n",
    "  \n",
    "    def build(self, input_shape: tuple) -> None:\n",
    "        self.kernel = self.add_weights([input_shape[-1], self.units],\n",
    "                                       initializer = 'glorot_uniform')\n",
    "        self.bias = self.add_weights([self.units],\n",
    "                                     initializer = 'zeros')\n",
    "        super().build(input_shape) # Needed to check dimensions and build.\n",
    "    \n",
    "    # Use call not __call__ to define the flow. No tf.function needed either.\n",
    "    def call(self, inputs):\n",
    "        return inputs @ self.kernel + self.bias"
   ]
  }
 ],
 "metadata": {
  "kernelspec": {
   "display_name": "TensorWrap",
   "language": "python",
   "name": "python3"
  },
  "language_info": {
   "codemirror_mode": {
    "name": "ipython",
    "version": 3
   },
   "file_extension": ".py",
   "mimetype": "text/x-python",
   "name": "python",
   "nbconvert_exporter": "python",
   "pygments_lexer": "ipython3",
   "version": "3.10.8"
  },
  "orig_nbformat": 4,
  "vscode": {
   "interpreter": {
    "hash": "da53633a286fdc5fa9862d67a3a85a7eec918dfea906e3018d3e6a5fef740b93"
   }
  }
 },
 "nbformat": 4,
 "nbformat_minor": 2
}
