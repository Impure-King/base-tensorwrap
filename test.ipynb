{
 "cells": [
  {
   "cell_type": "code",
   "execution_count": 1,
   "metadata": {},
   "outputs": [],
   "source": [
    "import tensorwrap as tf\n",
    "import jax\n",
    "from jax import jit\n",
    "tf.config.set_visible_devices(\"gpu\")"
   ]
  },
  {
   "cell_type": "code",
   "execution_count": 2,
   "metadata": {},
   "outputs": [],
   "source": [
    "x = tf.range(1, 1e5)\n",
    "x = tf.reshape(x, (1, -1))\n",
    "y = x + 10\n",
    "x, y = x/1e5, y/1e5"
   ]
  },
  {
   "cell_type": "code",
   "execution_count": 3,
   "metadata": {},
   "outputs": [
    {
     "data": {
      "text/plain": [
       "'l'"
      ]
     },
     "execution_count": 3,
     "metadata": {},
     "output_type": "execute_result"
    }
   ],
   "source": [
    "layer = tf.nn.layers.Dense(10)\n",
    "layer.name[0]"
   ]
  },
  {
   "cell_type": "code",
   "execution_count": 4,
   "metadata": {},
   "outputs": [
    {
     "data": {
      "text/plain": [
       "('glorot_uniform',)"
      ]
     },
     "execution_count": 4,
     "metadata": {},
     "output_type": "execute_result"
    }
   ],
   "source": [
    "layer.kernel_initializer"
   ]
  },
  {
   "cell_type": "code",
   "execution_count": 5,
   "metadata": {},
   "outputs": [],
   "source": [
    "model = tf.nn.Sequential([\n",
    "    tf.nn.layers.Dense(10),\n",
    "    tf.nn.layers.Dense(1)\n",
    "])\n",
    "model.compile(\n",
    "    loss=tf.nn.losses.mae,\n",
    "    optimizer=tf.nn.optimizers.gradient_descent(learning_rate = 1e-2),\n",
    ")"
   ]
  },
  {
   "cell_type": "code",
   "execution_count": 6,
   "metadata": {},
   "outputs": [],
   "source": [
    "layer = model.layers[0]"
   ]
  },
  {
   "cell_type": "code",
   "execution_count": 7,
   "metadata": {},
   "outputs": [
    {
     "data": {
      "text/plain": [
       "{'dtype': None,\n",
       " 'built': False,\n",
       " 'name': 'layer 0',\n",
       " 'trainable': True,\n",
       " 'trainable_variables': {},\n",
       " 'units': 10,\n",
       " 'use_bias': (True,),\n",
       " 'kernel_initializer': ('glorot_uniform',),\n",
       " 'bias_initializer': ('zeros',),\n",
       " 'kernel_regularizer': (None,),\n",
       " 'bias_regularizer': (None,),\n",
       " 'activity_regularizer': (None,),\n",
       " 'kernel_constraint': (None,),\n",
       " 'bias_constraint': (None,),\n",
       " 'dynamic': False,\n",
       " 'activation': <function tensorwrap.nn.activations.Activation.no_activate(inputs)>}"
      ]
     },
     "execution_count": 7,
     "metadata": {},
     "output_type": "execute_result"
    }
   ],
   "source": [
    "vars(model.trainable_layers['layer 0'])"
   ]
  },
  {
   "cell_type": "code",
   "execution_count": 8,
   "metadata": {},
   "outputs": [
    {
     "data": {
      "text/plain": [
       "{}"
      ]
     },
     "execution_count": 8,
     "metadata": {},
     "output_type": "execute_result"
    }
   ],
   "source": [
    "model.trainable_layers['layer 0'].trainable_variables"
   ]
  },
  {
   "cell_type": "code",
   "execution_count": 9,
   "metadata": {},
   "outputs": [
    {
     "name": "stdout",
     "output_type": "stream",
     "text": [
      "120 ms ± 2.34 ms per loop (mean ± std. dev. of 7 runs, 1 loop each)\n"
     ]
    }
   ],
   "source": [
    "%timeit model.fit(x, y, epochs=100, batch_size=32, verbose=0, hist_return=False)"
   ]
  }
 ],
 "metadata": {
  "kernelspec": {
   "display_name": "TensorWrap",
   "language": "python",
   "name": "python3"
  },
  "language_info": {
   "codemirror_mode": {
    "name": "ipython",
    "version": 3
   },
   "file_extension": ".py",
   "mimetype": "text/x-python",
   "name": "python",
   "nbconvert_exporter": "python",
   "pygments_lexer": "ipython3",
   "version": "3.10.8"
  },
  "orig_nbformat": 4
 },
 "nbformat": 4,
 "nbformat_minor": 2
}
