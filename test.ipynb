{
 "cells": [
  {
   "cell_type": "code",
   "execution_count": 1,
   "metadata": {},
   "outputs": [
    {
     "data": {
      "text/plain": [
       "('0.0.0.4', None, [])"
      ]
     },
     "execution_count": 1,
     "metadata": {},
     "output_type": "execute_result"
    }
   ],
   "source": [
    "import tensorwrap as tf\n",
    "tf.__version__, tf.config.set_visible_devices(\"cpu\"), tf.config.list_physical_devices(\"GPU\")"
   ]
  },
  {
   "cell_type": "code",
   "execution_count": 2,
   "metadata": {},
   "outputs": [],
   "source": [
    "from tensorwrap import nn"
   ]
  },
  {
   "cell_type": "code",
   "execution_count": 3,
   "metadata": {},
   "outputs": [],
   "source": [
    "layer = tf.nn.layers.Dense(units = 10)\n",
    "layer1 = tf.nn.layers.Dense(units = 1)"
   ]
  },
  {
   "cell_type": "code",
   "execution_count": 4,
   "metadata": {},
   "outputs": [],
   "source": [
    "x = tf.range(1, 1e7, dtype=tf.float32)\n",
    "x = tf.expand_dims(x, axis = 1)\n",
    "y = x + 10\n",
    "x /= 1e5"
   ]
  },
  {
   "cell_type": "code",
   "execution_count": 5,
   "metadata": {},
   "outputs": [],
   "source": [
    "model = nn.Sequential([\n",
    "    layer,\n",
    "    layer,\n",
    "    layer1\n",
    "])"
   ]
  },
  {
   "cell_type": "code",
   "execution_count": 6,
   "metadata": {},
   "outputs": [],
   "source": [
    "model.compile(\n",
    "    loss = tf.nn.losses.mae,\n",
    "    optimizer = tf.nn.optimizers.gradient_descent(5e-3),\n",
    ")"
   ]
  },
  {
   "cell_type": "code",
   "execution_count": 7,
   "metadata": {},
   "outputs": [
    {
     "name": "stdout",
     "output_type": "stream",
     "text": [
      "Epoch 1|2000 \n",
      "[=========================]    Loss: 4999308.50000     Metric: 4999308.50000\n",
      "Epoch 2|2000 \n",
      "[=========================]    Loss: 4999288.00000     Metric: 4999288.00000\n",
      "Epoch 3|2000 \n",
      "[=========================]    Loss: 4999267.00000     Metric: 4999267.00000\n",
      "Epoch 4|2000 \n",
      "[=========================]    Loss: 4999245.00000     Metric: 4999245.00000\n",
      "Epoch 5|2000 \n",
      "[=========================]    Loss: 4999223.00000     Metric: 4999223.00000\n",
      "Epoch 6|2000 \n",
      "[=========================]    Loss: 4999200.50000     Metric: 4999200.50000\n",
      "Epoch 7|2000 \n",
      "[=========================]    Loss: 4999178.50000     Metric: 4999178.50000\n",
      "Epoch 8|2000 \n",
      "[=========================]    Loss: 4999155.00000     Metric: 4999155.00000\n",
      "Epoch 9|2000 \n",
      "[=========================]    Loss: 4999132.00000     Metric: 4999132.00000\n",
      "Epoch 10|2000 \n",
      "[=========================]    Loss: 4999108.00000     Metric: 4999108.00000\n",
      "Epoch 11|2000 \n",
      "[=========================]    Loss: 4999083.00000     Metric: 4999083.00000\n",
      "Epoch 12|2000 \n",
      "[=========================]    Loss: 4999058.00000     Metric: 4999058.00000\n",
      "Epoch 13|2000 \n",
      "[=========================]    Loss: 4999033.00000     Metric: 4999033.00000\n",
      "Epoch 14|2000 \n",
      "[=========================]    Loss: 4999007.00000     Metric: 4999007.00000\n",
      "Epoch 15|2000 \n",
      "[=========================]    Loss: 4998981.00000     Metric: 4998981.00000\n",
      "Epoch 16|2000 \n",
      "[=========================]    Loss: 4998954.50000     Metric: 4998954.50000\n",
      "Epoch 17|2000 \n",
      "[=========================]    Loss: 4998927.50000     Metric: 4998927.50000\n",
      "Epoch 18|2000 \n",
      "[=========================]    Loss: 4998900.00000     Metric: 4998900.00000\n",
      "Epoch 19|2000 \n",
      "[=========================]    Loss: 4998871.50000     Metric: 4998871.50000\n",
      "Epoch 20|2000 \n",
      "[=========================]    Loss: 4998843.50000     Metric: 4998843.50000\n",
      "Epoch 21|2000 \n",
      "[=========================]    Loss: 4998814.50000     Metric: 4998814.50000\n",
      "Epoch 22|2000 \n",
      "[=========================]    Loss: 4998785.50000     Metric: 4998785.50000\n",
      "Epoch 23|2000 \n",
      "[=========================]    Loss: 4998755.50000     Metric: 4998755.50000\n",
      "Epoch 24|2000 \n",
      "[=========================]    Loss: 4998725.00000     Metric: 4998725.00000\n",
      "Epoch 25|2000 \n",
      "[=========================]    Loss: 4998694.00000     Metric: 4998694.00000\n",
      "Epoch 26|2000 \n",
      "[=========================]    Loss: 4998663.00000     Metric: 4998663.00000\n",
      "Epoch 27|2000 \n",
      "[=========================]    Loss: 4998630.50000     Metric: 4998630.50000\n",
      "Epoch 28|2000 \n",
      "[=========================]    Loss: 4998598.50000     Metric: 4998598.50000\n",
      "Epoch 29|2000 \n",
      "[=========================]    Loss: 4998566.00000     Metric: 4998566.00000\n",
      "Epoch 30|2000 \n",
      "[=========================]    Loss: 4998532.50000     Metric: 4998532.50000\n",
      "Epoch 31|2000 \n",
      "[=========================]    Loss: 4998498.50000     Metric: 4998498.50000\n",
      "Epoch 32|2000 \n",
      "[=========================]    Loss: 4998465.00000     Metric: 4998465.00000\n",
      "Epoch 33|2000 \n",
      "[=========================]    Loss: 4998429.50000     Metric: 4998429.50000\n",
      "Epoch 34|2000 \n",
      "[=========================]    Loss: 4998394.50000     Metric: 4998394.50000\n",
      "Epoch 35|2000 \n",
      "[=========================]    Loss: 4998358.50000     Metric: 4998358.50000\n",
      "Epoch 36|2000 \n",
      "[=========================]    Loss: 4998322.00000     Metric: 4998322.00000\n",
      "Epoch 37|2000 \n",
      "[=========================]    Loss: 4998285.00000     Metric: 4998285.00000\n",
      "Epoch 38|2000 \n",
      "[=========================]    Loss: 4998247.50000     Metric: 4998247.50000\n",
      "Epoch 39|2000 \n",
      "[=========================]    Loss: 4998209.50000     Metric: 4998209.50000\n",
      "Epoch 40|2000 \n",
      "[=========================]    Loss: 4998171.50000     Metric: 4998171.50000\n",
      "Epoch 41|2000 \n",
      "[=========================]    Loss: 4998132.00000     Metric: 4998132.00000\n"
     ]
    }
   ],
   "source": [
    "%timeit model.fit(x, y, epochs = int(2e3))"
   ]
  },
  {
   "cell_type": "code",
   "execution_count": null,
   "metadata": {},
   "outputs": [
    {
     "data": {
      "text/plain": [
       "{'args': (),\n",
       " 'kwargs': {},\n",
       " 'layers': [<tensorwrap.nn.layers.Dense at 0x7fd4a95b3370>,\n",
       "  <tensorwrap.nn.layers.Dense at 0x7fd3e6514d60>,\n",
       "  <tensorwrap.nn.layers.Dense at 0x7fd4a95b32b0>],\n",
       " 'trainable_variables': [],\n",
       " 'loss_fn': <CompiledFunction of <function mae at 0x7fd3e65ad3f0>>,\n",
       " 'optimizer': <tensorwrap.nn.optimizers.gradient_descent at 0x7fd4a95b11e0>,\n",
       " 'metrics': <CompiledFunction of <function mae at 0x7fd3e65ad3f0>>}"
      ]
     },
     "execution_count": 8,
     "metadata": {},
     "output_type": "execute_result"
    }
   ],
   "source": [
    "vars(model)"
   ]
  },
  {
   "cell_type": "code",
   "execution_count": null,
   "metadata": {},
   "outputs": [],
   "source": []
  }
 ],
 "metadata": {
  "kernelspec": {
   "display_name": "TensorWrap",
   "language": "python",
   "name": "python3"
  },
  "language_info": {
   "codemirror_mode": {
    "name": "ipython",
    "version": 3
   },
   "file_extension": ".py",
   "mimetype": "text/x-python",
   "name": "python",
   "nbconvert_exporter": "python",
   "pygments_lexer": "ipython3",
   "version": "3.10.9"
  },
  "orig_nbformat": 4,
  "vscode": {
   "interpreter": {
    "hash": "da53633a286fdc5fa9862d67a3a85a7eec918dfea906e3018d3e6a5fef740b93"
   }
  }
 },
 "nbformat": 4,
 "nbformat_minor": 2
}
