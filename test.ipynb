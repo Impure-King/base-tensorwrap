{
 "cells": [
  {
   "cell_type": "code",
   "execution_count": 1,
   "metadata": {},
   "outputs": [],
   "source": [
    "import tensorwrap as tf\n",
    "model = tf.nn.Sequential([\n",
    "    tf.nn.layers.Dense(10),\n",
    "    tf.nn.layers.Dense(1)\n",
    "])\n",
    "model.compile(\n",
    "    loss=tf.nn.losses.mse,\n",
    "    optimizer=tf.nn.optimizers.gradient_descent(),\n",
    "    metrics=tf.nn.losses.mae\n",
    ")"
   ]
  },
  {
   "cell_type": "code",
   "execution_count": 2,
   "metadata": {},
   "outputs": [
    {
     "data": {
      "text/plain": [
       "[]"
      ]
     },
     "execution_count": 2,
     "metadata": {},
     "output_type": "execute_result"
    }
   ],
   "source": [
    "model.layers[0].trainable_variables"
   ]
  },
  {
   "cell_type": "code",
   "execution_count": 3,
   "metadata": {},
   "outputs": [
    {
     "name": "stdout",
     "output_type": "stream",
     "text": [
      "Epoch 1|1 \t\t\t Loss: 3038639872.00000\t\t\t     Metric: 47729.98438\n"
     ]
    }
   ],
   "source": [
    "x = tf.range(1, int(1e5))\n",
    "x = tf.expand_dims(x, axis=1)\n",
    "model.fit(x, x + 10, epochs=1, verbose=2)"
   ]
  },
  {
   "cell_type": "code",
   "execution_count": 4,
   "metadata": {},
   "outputs": [
    {
     "data": {
      "text/plain": [
       "[[],\n",
       " [Array([[955.27966, 954.99445, 955.4784 , 954.91437, 954.671  , 955.25824,\n",
       "          955.0494 , 955.0358 , 955.4092 , 955.00757]], dtype=float32),\n",
       "  Array([954.5997, 954.5997, 954.5997, 954.5997, 954.5997, 954.5997,\n",
       "         954.5997, 954.5997, 954.5997, 954.5997], dtype=float32)]]"
      ]
     },
     "execution_count": 4,
     "metadata": {},
     "output_type": "execute_result"
    }
   ],
   "source": [
    "model.trainable_variables"
   ]
  },
  {
   "cell_type": "code",
   "execution_count": null,
   "metadata": {},
   "outputs": [],
   "source": []
  }
 ],
 "metadata": {
  "kernelspec": {
   "display_name": "TensorWrap",
   "language": "python",
   "name": "python3"
  },
  "language_info": {
   "codemirror_mode": {
    "name": "ipython",
    "version": 3
   },
   "file_extension": ".py",
   "mimetype": "text/x-python",
   "name": "python",
   "nbconvert_exporter": "python",
   "pygments_lexer": "ipython3",
   "version": "3.10.8"
  },
  "orig_nbformat": 4
 },
 "nbformat": 4,
 "nbformat_minor": 2
}
