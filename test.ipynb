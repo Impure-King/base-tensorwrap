{
 "cells": [
  {
   "cell_type": "code",
   "execution_count": 1,
   "metadata": {},
   "outputs": [
    {
     "data": {
      "text/plain": [
       "('0.0.0.4', None, [])"
      ]
     },
     "execution_count": 1,
     "metadata": {},
     "output_type": "execute_result"
    }
   ],
   "source": [
    "import tensorwrap as tf\n",
    "tf.__version__, tf.config.set_visible_devices(\"cpu\"), tf.config.list_physical_devices(\"GPU\")"
   ]
  },
  {
   "cell_type": "code",
   "execution_count": 2,
   "metadata": {},
   "outputs": [],
   "source": [
    "x = tf.range(1, 1e7, dtype=tf.float32)\n",
    "x = tf.expand_dims(x, axis = 1)\n",
    "x /= 1e5"
   ]
  },
  {
   "cell_type": "code",
   "execution_count": 3,
   "metadata": {},
   "outputs": [],
   "source": [
    "layer = tf.nn.layers.Dense(units = 50)"
   ]
  },
  {
   "cell_type": "code",
   "execution_count": 4,
   "metadata": {},
   "outputs": [
    {
     "data": {
      "text/plain": [
       "Array([[9.0340436e-06, 9.4423676e-06, 5.2572582e-06, ..., 1.2667954e-06,\n",
       "        9.0458771e-06, 9.1047395e-06],\n",
       "       [1.8068087e-05, 1.8884735e-05, 1.0514516e-05, ..., 2.5335908e-06,\n",
       "        1.8091754e-05, 1.8209479e-05],\n",
       "       [2.7102131e-05, 2.8327102e-05, 1.5771775e-05, ..., 3.8003861e-06,\n",
       "        2.7137632e-05, 2.7314218e-05],\n",
       "       ...,\n",
       "       [9.0340408e+01, 9.4423645e+01, 5.2572567e+01, ..., 1.2667950e+01,\n",
       "        9.0458748e+01, 9.1047363e+01],\n",
       "       [9.0340416e+01, 9.4423653e+01, 5.2572571e+01, ..., 1.2667951e+01,\n",
       "        9.0458755e+01, 9.1047371e+01],\n",
       "       [9.0340431e+01, 9.4423668e+01, 5.2572578e+01, ..., 1.2667953e+01,\n",
       "        9.0458771e+01, 9.1047386e+01]], dtype=float32)"
      ]
     },
     "execution_count": 4,
     "metadata": {},
     "output_type": "execute_result"
    }
   ],
   "source": [
    "layer(x)"
   ]
  },
  {
   "cell_type": "code",
   "execution_count": 5,
   "metadata": {},
   "outputs": [
    {
     "name": "stdout",
     "output_type": "stream",
     "text": [
      "383 ms ± 50.7 ms per loop (mean ± std. dev. of 7 runs, 1 loop each)\n"
     ]
    }
   ],
   "source": [
    "%timeit layer(x)"
   ]
  },
  {
   "cell_type": "code",
   "execution_count": 6,
   "metadata": {},
   "outputs": [
    {
     "data": {
      "text/plain": [
       "2"
      ]
     },
     "execution_count": 6,
     "metadata": {},
     "output_type": "execute_result"
    }
   ],
   "source": [
    "tup = (1, 2), (1, 2)\n",
    "len(tup)"
   ]
  },
  {
   "cell_type": "code",
   "execution_count": 7,
   "metadata": {},
   "outputs": [],
   "source": [
    "import tensorwrap as tf"
   ]
  },
  {
   "cell_type": "code",
   "execution_count": 8,
   "metadata": {},
   "outputs": [
    {
     "data": {
      "text/plain": [
       "Array(3, dtype=int32, weak_type=True)"
      ]
     },
     "execution_count": 8,
     "metadata": {},
     "output_type": "execute_result"
    }
   ],
   "source": [
    "tf.shape(3)"
   ]
  }
 ],
 "metadata": {
  "kernelspec": {
   "display_name": "TensorWrap",
   "language": "python",
   "name": "python3"
  },
  "language_info": {
   "codemirror_mode": {
    "name": "ipython",
    "version": 3
   },
   "file_extension": ".py",
   "mimetype": "text/x-python",
   "name": "python",
   "nbconvert_exporter": "python",
   "pygments_lexer": "ipython3",
   "version": "3.10.9"
  },
  "orig_nbformat": 4,
  "vscode": {
   "interpreter": {
    "hash": "da53633a286fdc5fa9862d67a3a85a7eec918dfea906e3018d3e6a5fef740b93"
   }
  }
 },
 "nbformat": 4,
 "nbformat_minor": 2
}
