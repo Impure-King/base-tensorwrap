{
 "cells": [
  {
   "cell_type": "code",
   "execution_count": 1,
   "metadata": {},
   "outputs": [
    {
     "data": {
      "text/plain": [
       "('0.0.0.3', True)"
      ]
     },
     "execution_count": 1,
     "metadata": {},
     "output_type": "execute_result"
    }
   ],
   "source": [
    "import tensorwrap as tf\n",
    "from tensorwrap import nn\n",
    "tf.__version__, tf.test.is_device_available('cuda')"
   ]
  },
  {
   "cell_type": "code",
   "execution_count": 2,
   "metadata": {},
   "outputs": [],
   "source": [
    "layer = nn.layers.Dense(units = 1)\n",
    "layer1 = nn.layers.Dense(units = 100)\n",
    "layer2 = nn.layers.Dense(units = 100)"
   ]
  },
  {
   "cell_type": "code",
   "execution_count": 3,
   "metadata": {},
   "outputs": [],
   "source": [
    "array = tf.Variable([1, 2, 3, 4, 5], dtype = tf.float32)\n",
    "array = tf.reshape(array, (-1, 1))"
   ]
  },
  {
   "cell_type": "code",
   "execution_count": 4,
   "metadata": {},
   "outputs": [],
   "source": [
    "model = tf.nn.Sequential([\n",
    "    layer1,\n",
    "    layer2,\n",
    "    layer1\n",
    "])\n",
    "\n",
    "model.compile(\n",
    "    loss = tf.nn.losses.mse,\n",
    "    optimizer = tf.nn.optimizers.SGD(learning_rate=0.1),\n",
    "    metrics = tf.nn.losses.mae)"
   ]
  },
  {
   "cell_type": "code",
   "execution_count": 5,
   "metadata": {},
   "outputs": [
    {
     "data": {
      "text/plain": [
       "Array([[1.],\n",
       "       [2.],\n",
       "       [3.],\n",
       "       [4.],\n",
       "       [5.]], dtype=float32)"
      ]
     },
     "execution_count": 5,
     "metadata": {},
     "output_type": "execute_result"
    }
   ],
   "source": [
    "array"
   ]
  },
  {
   "cell_type": "code",
   "execution_count": 6,
   "metadata": {},
   "outputs": [
    {
     "name": "stdout",
     "output_type": "stream",
     "text": [
      "Epoch 1 complete - - - - - -  Metrics: 3146.98046875\n",
      "Epoch 2 complete - - - - - -  Metrics: 4188.935546875\n",
      "Epoch 3 complete - - - - - -  Metrics: 3678.26806640625\n",
      "Epoch 4 complete - - - - - -  Metrics: 4152.8515625\n",
      "Epoch 5 complete - - - - - -  Metrics: 3626.232421875\n",
      "Epoch 6 complete - - - - - -  Metrics: 3639.61474609375\n",
      "Epoch 7 complete - - - - - -  Metrics: 3770.437255859375\n",
      "Epoch 8 complete - - - - - -  Metrics: 3637.181884765625\n",
      "Epoch 9 complete - - - - - -  Metrics: 4171.9580078125\n",
      "Epoch 10 complete - - - - - -  Metrics: 3103.89111328125\n",
      "Epoch 11 complete - - - - - -  Metrics: 4188.935546875\n",
      "Epoch 12 complete - - - - - -  Metrics: 3628.955078125\n",
      "Epoch 13 complete - - - - - -  Metrics: 3949.19970703125\n",
      "Epoch 14 complete - - - - - -  Metrics: 3721.18212890625\n",
      "Epoch 15 complete - - - - - -  Metrics: 3168.534423828125\n",
      "Epoch 16 complete - - - - - -  Metrics: 3977.498291015625\n",
      "Epoch 17 complete - - - - - -  Metrics: 3150.50537109375\n",
      "Epoch 18 complete - - - - - -  Metrics: 3745.478759765625\n",
      "Epoch 19 complete - - - - - -  Metrics: 4202.8642578125\n",
      "Epoch 20 complete - - - - - -  Metrics: 3717.0166015625\n",
      "Epoch 21 complete - - - - - -  Metrics: 3989.375\n",
      "Epoch 22 complete - - - - - -  Metrics: 3963.896728515625\n",
      "Epoch 23 complete - - - - - -  Metrics: 4200.703125\n",
      "Epoch 24 complete - - - - - -  Metrics: 4158.0771484375\n",
      "Epoch 25 complete - - - - - -  Metrics: 3968.750732421875\n",
      "Epoch 26 complete - - - - - -  Metrics: 4149.19921875\n",
      "Epoch 27 complete - - - - - -  Metrics: 3692.408447265625\n",
      "Epoch 28 complete - - - - - -  Metrics: 4174.89697265625\n",
      "Epoch 29 complete - - - - - -  Metrics: 3679.69873046875\n",
      "Epoch 30 complete - - - - - -  Metrics: 4231.162109375\n",
      "Epoch 31 complete - - - - - -  Metrics: 4189.65087890625\n",
      "Epoch 32 complete - - - - - -  Metrics: 3744.358154296875\n",
      "Epoch 33 complete - - - - - -  Metrics: 3626.275146484375\n",
      "Epoch 34 complete - - - - - -  Metrics: 3637.181884765625\n",
      "Epoch 35 complete - - - - - -  Metrics: 3095.578369140625\n",
      "Epoch 36 complete - - - - - -  Metrics: 3963.489013671875\n",
      "Epoch 37 complete - - - - - -  Metrics: 3745.45458984375\n",
      "Epoch 38 complete - - - - - -  Metrics: 3140.36962890625\n",
      "Epoch 39 complete - - - - - -  Metrics: 3663.167236328125\n",
      "Epoch 40 complete - - - - - -  Metrics: 3103.677978515625\n",
      "Epoch 41 complete - - - - - -  Metrics: 3989.482666015625\n",
      "Epoch 42 complete - - - - - -  Metrics: 3711.373779296875\n",
      "Epoch 43 complete - - - - - -  Metrics: 3949.19970703125\n",
      "Epoch 44 complete - - - - - -  Metrics: 3963.896728515625\n",
      "Epoch 45 complete - - - - - -  Metrics: 3934.018798828125\n",
      "Epoch 46 complete - - - - - -  Metrics: 4222.69873046875\n",
      "Epoch 47 complete - - - - - -  Metrics: 3119.340576171875\n",
      "Epoch 48 complete - - - - - -  Metrics: 3934.3271484375\n",
      "Epoch 49 complete - - - - - -  Metrics: 3734.91259765625\n",
      "Epoch 50 complete - - - - - -  Metrics: 3637.370849609375\n",
      "Epoch 51 complete - - - - - -  Metrics: 4161.7373046875\n",
      "Epoch 52 complete - - - - - -  Metrics: 3688.170166015625\n",
      "Epoch 53 complete - - - - - -  Metrics: 3744.36376953125\n",
      "Epoch 54 complete - - - - - -  Metrics: 4214.4541015625\n",
      "Epoch 55 complete - - - - - -  Metrics: 3989.482666015625\n",
      "Epoch 56 complete - - - - - -  Metrics: 3730.691650390625\n",
      "Epoch 57 complete - - - - - -  Metrics: 3622.4677734375\n",
      "Epoch 58 complete - - - - - -  Metrics: 3663.167236328125\n",
      "Epoch 59 complete - - - - - -  Metrics: 3731.187255859375\n",
      "Epoch 60 complete - - - - - -  Metrics: 3151.271484375\n",
      "Epoch 61 complete - - - - - -  Metrics: 3626.275146484375\n",
      "Epoch 62 complete - - - - - -  Metrics: 3733.080078125\n",
      "Epoch 63 complete - - - - - -  Metrics: 4159.96630859375\n",
      "Epoch 64 complete - - - - - -  Metrics: 4211.92529296875\n",
      "Epoch 65 complete - - - - - -  Metrics: 3102.93115234375\n",
      "Epoch 66 complete - - - - - -  Metrics: 3103.677978515625\n",
      "Epoch 67 complete - - - - - -  Metrics: 3965.32568359375\n",
      "Epoch 68 complete - - - - - -  Metrics: 4226.99072265625\n",
      "Epoch 69 complete - - - - - -  Metrics: 3721.18212890625\n",
      "Epoch 70 complete - - - - - -  Metrics: 3103.89111328125\n",
      "Epoch 71 complete - - - - - -  Metrics: 3095.578369140625\n",
      "Epoch 72 complete - - - - - -  Metrics: 3142.23876953125\n",
      "Epoch 73 complete - - - - - -  Metrics: 3731.187255859375\n",
      "Epoch 74 complete - - - - - -  Metrics: 3151.271484375\n",
      "Epoch 75 complete - - - - - -  Metrics: 3944.94775390625\n",
      "Epoch 76 complete - - - - - -  Metrics: 3730.103759765625\n",
      "Epoch 77 complete - - - - - -  Metrics: 3944.94775390625\n",
      "Epoch 78 complete - - - - - -  Metrics: 3119.340576171875\n",
      "Epoch 79 complete - - - - - -  Metrics: 3975.47119140625\n",
      "Epoch 80 complete - - - - - -  Metrics: 4222.69873046875\n",
      "Epoch 81 complete - - - - - -  Metrics: 3672.209228515625\n",
      "Epoch 82 complete - - - - - -  Metrics: 3168.534423828125\n",
      "Epoch 83 complete - - - - - -  Metrics: 3102.93115234375\n",
      "Epoch 84 complete - - - - - -  Metrics: 3730.691650390625\n",
      "Epoch 85 complete - - - - - -  Metrics: 3744.697265625\n",
      "Epoch 86 complete - - - - - -  Metrics: 3953.3134765625\n",
      "Epoch 87 complete - - - - - -  Metrics: 3663.167236328125\n",
      "Epoch 88 complete - - - - - -  Metrics: 4171.9580078125\n",
      "Epoch 89 complete - - - - - -  Metrics: 4200.703125\n",
      "Epoch 90 complete - - - - - -  Metrics: 4171.9580078125\n",
      "Epoch 91 complete - - - - - -  Metrics: 3636.8095703125\n",
      "Epoch 92 complete - - - - - -  Metrics: 4211.92529296875\n",
      "Epoch 93 complete - - - - - -  Metrics: 3622.4677734375\n",
      "Epoch 94 complete - - - - - -  Metrics: 4188.935546875\n",
      "Epoch 95 complete - - - - - -  Metrics: 3975.47119140625\n",
      "Epoch 96 complete - - - - - -  Metrics: 3733.080078125\n",
      "Epoch 97 complete - - - - - -  Metrics: 3946.90625\n",
      "Epoch 98 complete - - - - - -  Metrics: 4174.89697265625\n",
      "Epoch 99 complete - - - - - -  Metrics: 3641.342041015625\n",
      "Epoch 100 complete - - - - - -  Metrics: 3734.193115234375\n"
     ]
    }
   ],
   "source": [
    "model.fit(array, array + 10, epochs = 100)"
   ]
  },
  {
   "cell_type": "code",
   "execution_count": 7,
   "metadata": {},
   "outputs": [
    {
     "name": "stdout",
     "output_type": "stream",
     "text": [
      "(100, 100)\n"
     ]
    }
   ],
   "source": [
    "print(model.layers[1].trainable_variables[0].shape)"
   ]
  },
  {
   "cell_type": "code",
   "execution_count": 8,
   "metadata": {},
   "outputs": [
    {
     "data": {
      "text/plain": [
       "((5, 1), (100, 100))"
      ]
     },
     "execution_count": 8,
     "metadata": {},
     "output_type": "execute_result"
    }
   ],
   "source": [
    "array.shape, model.layers[0].kernel.shape"
   ]
  }
 ],
 "metadata": {
  "kernelspec": {
   "display_name": "TensorWrap",
   "language": "python",
   "name": "python3"
  },
  "language_info": {
   "codemirror_mode": {
    "name": "ipython",
    "version": 3
   },
   "file_extension": ".py",
   "mimetype": "text/x-python",
   "name": "python",
   "nbconvert_exporter": "python",
   "pygments_lexer": "ipython3",
   "version": "3.10.8"
  },
  "orig_nbformat": 4,
  "vscode": {
   "interpreter": {
    "hash": "da53633a286fdc5fa9862d67a3a85a7eec918dfea906e3018d3e6a5fef740b93"
   }
  }
 },
 "nbformat": 4,
 "nbformat_minor": 2
}
