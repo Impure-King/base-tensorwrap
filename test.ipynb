{
 "cells": [
  {
   "cell_type": "code",
   "execution_count": 1,
   "metadata": {},
   "outputs": [
    {
     "data": {
      "text/plain": [
       "'0.0.0.3'"
      ]
     },
     "execution_count": 1,
     "metadata": {},
     "output_type": "execute_result"
    }
   ],
   "source": [
    "import tensorwrap as tf\n",
    "tf.__version__"
   ]
  },
  {
   "cell_type": "code",
   "execution_count": 2,
   "metadata": {},
   "outputs": [],
   "source": [
    "x_train = tf.range(start = 1, end = 200, delta = 2)\n",
    "y_train = x_train + 10"
   ]
  },
  {
   "cell_type": "code",
   "execution_count": 3,
   "metadata": {},
   "outputs": [
    {
     "data": {
      "text/plain": [
       "Array([ 11.,  13.,  15.,  17.,  19.,  21.,  23.,  25.,  27.,  29.,  31.,\n",
       "        33.,  35.,  37.,  39.,  41.,  43.,  45.,  47.,  49.,  51.,  53.,\n",
       "        55.,  57.,  59.,  61.,  63.,  65.,  67.,  69.,  71.,  73.,  75.,\n",
       "        77.,  79.,  81.,  83.,  85.,  87.,  89.,  91.,  93.,  95.,  97.,\n",
       "        99., 101., 103., 105., 107., 109., 111., 113., 115., 117., 119.,\n",
       "       121., 123., 125., 127., 129., 131., 133., 135., 137., 139., 141.,\n",
       "       143., 145., 147., 149., 151., 153., 155., 157., 159., 161., 163.,\n",
       "       165., 167., 169., 171., 173., 175., 177., 179., 181., 183., 185.,\n",
       "       187., 189., 191., 193., 195., 197., 199., 201., 203., 205., 207.,\n",
       "       209.], dtype=float32)"
      ]
     },
     "execution_count": 3,
     "metadata": {},
     "output_type": "execute_result"
    }
   ],
   "source": [
    "y_train"
   ]
  },
  {
   "cell_type": "code",
   "execution_count": 4,
   "metadata": {},
   "outputs": [],
   "source": [
    "# Expanding the axis:\n",
    "x_train = tf.expand_dims(x_train, axis = 1)"
   ]
  },
  {
   "cell_type": "code",
   "execution_count": 5,
   "metadata": {},
   "outputs": [],
   "source": [
    "layer = tf.nn.layers.Dense(units = 1, dynamic = False, input_shape = [1])"
   ]
  },
  {
   "cell_type": "code",
   "execution_count": 6,
   "metadata": {},
   "outputs": [],
   "source": [
    "model = tf.nn.Sequential([\n",
    "    layer\n",
    "], dynamic = False)"
   ]
  },
  {
   "cell_type": "code",
   "execution_count": 7,
   "metadata": {},
   "outputs": [],
   "source": [
    "# Compiling the model:\n",
    "model.compile(\n",
    "    loss = tf.nn.losses.MSE,\n",
    "    optimizer = tf.nn.optimizers.SGD(learning_rate = 0.1),\n",
    "    accuracy = tf.nn.losses.MAE\n",
    ")"
   ]
  },
  {
   "cell_type": "code",
   "execution_count": 8,
   "metadata": {},
   "outputs": [
    {
     "data": {
      "text/plain": [
       "Array([[  1.1048737],\n",
       "       [  3.314621 ],\n",
       "       [  5.5243683],\n",
       "       [  7.7341156],\n",
       "       [  9.943863 ],\n",
       "       [ 12.15361  ],\n",
       "       [ 14.363358 ],\n",
       "       [ 16.573105 ],\n",
       "       [ 18.782852 ],\n",
       "       [ 20.9926   ],\n",
       "       [ 23.202347 ],\n",
       "       [ 25.412094 ],\n",
       "       [ 27.621841 ],\n",
       "       [ 29.831589 ],\n",
       "       [ 32.041336 ],\n",
       "       [ 34.251083 ],\n",
       "       [ 36.46083  ],\n",
       "       [ 38.670578 ],\n",
       "       [ 40.880325 ],\n",
       "       [ 43.090073 ],\n",
       "       [ 45.29982  ],\n",
       "       [ 47.509567 ],\n",
       "       [ 49.719315 ],\n",
       "       [ 51.92906  ],\n",
       "       [ 54.13881  ],\n",
       "       [ 56.348557 ],\n",
       "       [ 58.558304 ],\n",
       "       [ 60.76805  ],\n",
       "       [ 62.9778   ],\n",
       "       [ 65.187546 ],\n",
       "       [ 67.39729  ],\n",
       "       [ 69.60704  ],\n",
       "       [ 71.81679  ],\n",
       "       [ 74.026535 ],\n",
       "       [ 76.23628  ],\n",
       "       [ 78.44603  ],\n",
       "       [ 80.65578  ],\n",
       "       [ 82.865524 ],\n",
       "       [ 85.07527  ],\n",
       "       [ 87.28502  ],\n",
       "       [ 89.49477  ],\n",
       "       [ 91.70451  ],\n",
       "       [ 93.91426  ],\n",
       "       [ 96.12401  ],\n",
       "       [ 98.333755 ],\n",
       "       [100.5435   ],\n",
       "       [102.75325  ],\n",
       "       [104.963    ],\n",
       "       [107.172745 ],\n",
       "       [109.38249  ],\n",
       "       [111.59224  ],\n",
       "       [113.80199  ],\n",
       "       [116.011734 ],\n",
       "       [118.22148  ],\n",
       "       [120.43123  ],\n",
       "       [122.640976 ],\n",
       "       [124.85072  ],\n",
       "       [127.06047  ],\n",
       "       [129.27022  ],\n",
       "       [131.47997  ],\n",
       "       [133.68971  ],\n",
       "       [135.89946  ],\n",
       "       [138.1092   ],\n",
       "       [140.31895  ],\n",
       "       [142.5287   ],\n",
       "       [144.73845  ],\n",
       "       [146.9482   ],\n",
       "       [149.15794  ],\n",
       "       [151.36769  ],\n",
       "       [153.57744  ],\n",
       "       [155.78719  ],\n",
       "       [157.99693  ],\n",
       "       [160.20668  ],\n",
       "       [162.41643  ],\n",
       "       [164.62617  ],\n",
       "       [166.83592  ],\n",
       "       [169.04567  ],\n",
       "       [171.25542  ],\n",
       "       [173.46516  ],\n",
       "       [175.67491  ],\n",
       "       [177.88466  ],\n",
       "       [180.0944   ],\n",
       "       [182.30415  ],\n",
       "       [184.5139   ],\n",
       "       [186.72365  ],\n",
       "       [188.9334   ],\n",
       "       [191.14314  ],\n",
       "       [193.35289  ],\n",
       "       [195.56264  ],\n",
       "       [197.77238  ],\n",
       "       [199.98213  ],\n",
       "       [202.19188  ],\n",
       "       [204.40163  ],\n",
       "       [206.61137  ],\n",
       "       [208.82112  ],\n",
       "       [211.03087  ],\n",
       "       [213.24062  ],\n",
       "       [215.45036  ],\n",
       "       [217.66011  ],\n",
       "       [219.86986  ]], dtype=float32)"
      ]
     },
     "execution_count": 8,
     "metadata": {},
     "output_type": "execute_result"
    }
   ],
   "source": [
    "model(x_train)"
   ]
  },
  {
   "cell_type": "code",
   "execution_count": 9,
   "metadata": {},
   "outputs": [
    {
     "name": "stdout",
     "output_type": "stream",
     "text": [
      "Epoch 0 : Loss = 0.48736587166786194\n",
      "Epoch 1 : Loss = 0.48736587166786194\n"
     ]
    }
   ],
   "source": [
    "model.fit(x_train = x_train, y_train = y_train, epochs = 100)"
   ]
  },
  {
   "cell_type": "code",
   "execution_count": null,
   "metadata": {},
   "outputs": [],
   "source": []
  }
 ],
 "metadata": {
  "kernelspec": {
   "display_name": "TensorWrap",
   "language": "python",
   "name": "python3"
  },
  "language_info": {
   "codemirror_mode": {
    "name": "ipython",
    "version": 3
   },
   "file_extension": ".py",
   "mimetype": "text/x-python",
   "name": "python",
   "nbconvert_exporter": "python",
   "pygments_lexer": "ipython3",
   "version": "3.10.8"
  },
  "orig_nbformat": 4,
  "vscode": {
   "interpreter": {
    "hash": "da53633a286fdc5fa9862d67a3a85a7eec918dfea906e3018d3e6a5fef740b93"
   }
  }
 },
 "nbformat": 4,
 "nbformat_minor": 2
}
