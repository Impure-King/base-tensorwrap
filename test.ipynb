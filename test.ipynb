{
 "cells": [
  {
   "cell_type": "code",
   "execution_count": 1,
   "metadata": {},
   "outputs": [
    {
     "data": {
      "text/plain": [
       "('0.0.0.3', True)"
      ]
     },
     "execution_count": 1,
     "metadata": {},
     "output_type": "execute_result"
    }
   ],
   "source": [
    "import tensorwrap as tf\n",
    "from tensorwrap import nn\n",
    "tf.__version__, tf.test.is_device_available('cuda')"
   ]
  },
  {
   "cell_type": "code",
   "execution_count": 2,
   "metadata": {},
   "outputs": [],
   "source": [
    "layer = nn.layers.Linear(units = 1)\n",
    "layer1 = nn.layers.Linear(units = 100)"
   ]
  },
  {
   "cell_type": "code",
   "execution_count": 3,
   "metadata": {},
   "outputs": [],
   "source": [
    "array = tf.Variable([1, 2, 3, 4, 5])\n",
    "array = tf.reshape(array, (-1, 1))"
   ]
  },
  {
   "cell_type": "code",
   "execution_count": 4,
   "metadata": {},
   "outputs": [
    {
     "name": "stdout",
     "output_type": "stream",
     "text": [
      "Epoch 1 complete - - - - - -  Metrics: 12.942526817321777\n",
      "Epoch 2 complete - - - - - -  Metrics: 12.775157928466797\n",
      "Epoch 3 complete - - - - - -  Metrics: 12.775157928466797\n",
      "Epoch 4 complete - - - - - -  Metrics: 10.75328540802002\n",
      "Epoch 5 complete - - - - - -  Metrics: 11.899164199829102\n",
      "Epoch 6 complete - - - - - -  Metrics: 12.942526817321777\n",
      "Epoch 7 complete - - - - - -  Metrics: 12.958121299743652\n",
      "Epoch 8 complete - - - - - -  Metrics: 12.691424369812012\n",
      "Epoch 9 complete - - - - - -  Metrics: 11.899164199829102\n",
      "Epoch 10 complete - - - - - -  Metrics: 12.691424369812012\n",
      "Epoch 11 complete - - - - - -  Metrics: 12.69326114654541\n",
      "Epoch 12 complete - - - - - -  Metrics: 12.193077087402344\n",
      "Epoch 13 complete - - - - - -  Metrics: 12.921121597290039\n",
      "Epoch 14 complete - - - - - -  Metrics: 12.849705696105957\n",
      "Epoch 15 complete - - - - - -  Metrics: 12.942526817321777\n",
      "Epoch 16 complete - - - - - -  Metrics: 12.460617065429688\n",
      "Epoch 17 complete - - - - - -  Metrics: 11.35313892364502\n",
      "Epoch 18 complete - - - - - -  Metrics: 12.193077087402344\n",
      "Epoch 19 complete - - - - - -  Metrics: 11.35313892364502\n",
      "Epoch 20 complete - - - - - -  Metrics: 12.793734550476074\n",
      "Epoch 21 complete - - - - - -  Metrics: 11.899164199829102\n",
      "Epoch 22 complete - - - - - -  Metrics: 11.35313892364502\n",
      "Epoch 23 complete - - - - - -  Metrics: 11.899164199829102\n",
      "Epoch 24 complete - - - - - -  Metrics: 11.899164199829102\n",
      "Epoch 25 complete - - - - - -  Metrics: 12.942526817321777\n",
      "Epoch 26 complete - - - - - -  Metrics: 12.69326114654541\n",
      "Epoch 27 complete - - - - - -  Metrics: 11.899164199829102\n",
      "Epoch 28 complete - - - - - -  Metrics: 12.775157928466797\n",
      "Epoch 29 complete - - - - - -  Metrics: 12.69326114654541\n",
      "Epoch 30 complete - - - - - -  Metrics: 12.793734550476074\n",
      "Epoch 31 complete - - - - - -  Metrics: 12.793734550476074\n",
      "Epoch 32 complete - - - - - -  Metrics: 12.942526817321777\n",
      "Epoch 33 complete - - - - - -  Metrics: 12.849705696105957\n",
      "Epoch 34 complete - - - - - -  Metrics: 12.579029083251953\n",
      "Epoch 35 complete - - - - - -  Metrics: 12.921121597290039\n",
      "Epoch 36 complete - - - - - -  Metrics: 12.942526817321777\n",
      "Epoch 37 complete - - - - - -  Metrics: 12.958121299743652\n",
      "Epoch 38 complete - - - - - -  Metrics: 12.69326114654541\n",
      "Epoch 39 complete - - - - - -  Metrics: 10.75328540802002\n",
      "Epoch 40 complete - - - - - -  Metrics: 12.849705696105957\n",
      "Epoch 41 complete - - - - - -  Metrics: 12.849705696105957\n",
      "Epoch 42 complete - - - - - -  Metrics: 11.35313892364502\n",
      "Epoch 43 complete - - - - - -  Metrics: 11.899164199829102\n",
      "Epoch 44 complete - - - - - -  Metrics: 11.899164199829102\n",
      "Epoch 45 complete - - - - - -  Metrics: 12.579029083251953\n",
      "Epoch 46 complete - - - - - -  Metrics: 12.793734550476074\n",
      "Epoch 47 complete - - - - - -  Metrics: 12.579029083251953\n",
      "Epoch 48 complete - - - - - -  Metrics: 12.849705696105957\n",
      "Epoch 49 complete - - - - - -  Metrics: 11.899164199829102\n",
      "Epoch 50 complete - - - - - -  Metrics: 12.958121299743652\n",
      "Epoch 51 complete - - - - - -  Metrics: 12.775157928466797\n",
      "Epoch 52 complete - - - - - -  Metrics: 12.921121597290039\n",
      "Epoch 53 complete - - - - - -  Metrics: 11.899164199829102\n",
      "Epoch 54 complete - - - - - -  Metrics: 12.579029083251953\n",
      "Epoch 55 complete - - - - - -  Metrics: 12.579029083251953\n",
      "Epoch 56 complete - - - - - -  Metrics: 12.460617065429688\n",
      "Epoch 57 complete - - - - - -  Metrics: 12.942526817321777\n",
      "Epoch 58 complete - - - - - -  Metrics: 12.691424369812012\n",
      "Epoch 59 complete - - - - - -  Metrics: 10.75328540802002\n",
      "Epoch 60 complete - - - - - -  Metrics: 12.793734550476074\n",
      "Epoch 61 complete - - - - - -  Metrics: 12.775157928466797\n",
      "Epoch 62 complete - - - - - -  Metrics: 10.75328540802002\n",
      "Epoch 63 complete - - - - - -  Metrics: 12.460617065429688\n",
      "Epoch 64 complete - - - - - -  Metrics: 12.69326114654541\n",
      "Epoch 65 complete - - - - - -  Metrics: 12.579029083251953\n",
      "Epoch 66 complete - - - - - -  Metrics: 11.35313892364502\n",
      "Epoch 67 complete - - - - - -  Metrics: 12.691424369812012\n",
      "Epoch 68 complete - - - - - -  Metrics: 10.75328540802002\n",
      "Epoch 69 complete - - - - - -  Metrics: 12.691424369812012\n",
      "Epoch 70 complete - - - - - -  Metrics: 12.793734550476074\n",
      "Epoch 71 complete - - - - - -  Metrics: 12.958121299743652\n",
      "Epoch 72 complete - - - - - -  Metrics: 12.942526817321777\n",
      "Epoch 73 complete - - - - - -  Metrics: 12.793734550476074\n",
      "Epoch 74 complete - - - - - -  Metrics: 12.849705696105957\n",
      "Epoch 75 complete - - - - - -  Metrics: 11.35313892364502\n",
      "Epoch 76 complete - - - - - -  Metrics: 11.35313892364502\n",
      "Epoch 77 complete - - - - - -  Metrics: 12.849705696105957\n",
      "Epoch 78 complete - - - - - -  Metrics: 11.899164199829102\n",
      "Epoch 79 complete - - - - - -  Metrics: 12.69326114654541\n",
      "Epoch 80 complete - - - - - -  Metrics: 11.35313892364502\n",
      "Epoch 81 complete - - - - - -  Metrics: 12.942526817321777\n",
      "Epoch 82 complete - - - - - -  Metrics: 12.958121299743652\n",
      "Epoch 83 complete - - - - - -  Metrics: 12.691424369812012\n",
      "Epoch 84 complete - - - - - -  Metrics: 12.69326114654541\n",
      "Epoch 85 complete - - - - - -  Metrics: 11.35313892364502\n",
      "Epoch 86 complete - - - - - -  Metrics: 11.899164199829102\n",
      "Epoch 87 complete - - - - - -  Metrics: 12.793734550476074\n",
      "Epoch 88 complete - - - - - -  Metrics: 12.849705696105957\n",
      "Epoch 89 complete - - - - - -  Metrics: 12.942526817321777\n",
      "Epoch 90 complete - - - - - -  Metrics: 12.193077087402344\n",
      "Epoch 91 complete - - - - - -  Metrics: 11.79283618927002\n",
      "Epoch 92 complete - - - - - -  Metrics: 10.75328540802002\n",
      "Epoch 93 complete - - - - - -  Metrics: 11.35313892364502\n",
      "Epoch 94 complete - - - - - -  Metrics: 11.899164199829102\n",
      "Epoch 95 complete - - - - - -  Metrics: 12.69326114654541\n",
      "Epoch 96 complete - - - - - -  Metrics: 11.35313892364502\n",
      "Epoch 97 complete - - - - - -  Metrics: 12.579029083251953\n",
      "Epoch 98 complete - - - - - -  Metrics: 12.193077087402344\n",
      "Epoch 99 complete - - - - - -  Metrics: 12.691424369812012\n",
      "Epoch 100 complete - - - - - -  Metrics: 12.691424369812012\n"
     ]
    }
   ],
   "source": [
    "model = tf.nn.Sequential([\n",
    "    layer,\n",
    "    layer1,\n",
    "    layer\n",
    "])\n",
    "\n",
    "model.compile(\n",
    "    loss = tf.nn.losses.mse,\n",
    "    optimizer = tf.nn.optimizers.SGD(learning_rate=0.1),\n",
    "    metrics = tf.nn.losses.mae\n",
    ")\n",
    "model.fit(array, array + 10, epochs = 100)"
   ]
  },
  {
   "cell_type": "code",
   "execution_count": 5,
   "metadata": {},
   "outputs": [
    {
     "data": {
      "text/plain": [
       "Array([[0.2689741 ],\n",
       "       [0.5379482 ],\n",
       "       [0.80692226],\n",
       "       [1.0758964 ],\n",
       "       [1.3448704 ]], dtype=float32)"
      ]
     },
     "execution_count": 5,
     "metadata": {},
     "output_type": "execute_result"
    }
   ],
   "source": [
    "model(array)"
   ]
  },
  {
   "cell_type": "code",
   "execution_count": 6,
   "metadata": {},
   "outputs": [
    {
     "data": {
      "text/plain": [
       "[Array([[0.6343405]], dtype=float32), Array([0.], dtype=float32)]"
      ]
     },
     "execution_count": 6,
     "metadata": {},
     "output_type": "execute_result"
    }
   ],
   "source": [
    "model.layers[0].trainable_variables"
   ]
  },
  {
   "cell_type": "code",
   "execution_count": 7,
   "metadata": {},
   "outputs": [],
   "source": [
    "from collections import namedtuple\n",
    "tupl = namedtuple(\"Tensor\", [\"elements\"])\n",
    "ar = tf.Variable(tupl(90))"
   ]
  },
  {
   "cell_type": "code",
   "execution_count": 8,
   "metadata": {},
   "outputs": [
    {
     "data": {
      "text/plain": [
       "Array([1], dtype=int32)"
      ]
     },
     "execution_count": 8,
     "metadata": {},
     "output_type": "execute_result"
    }
   ],
   "source": [
    "ar.at[0].set(1)"
   ]
  },
  {
   "cell_type": "code",
   "execution_count": 9,
   "metadata": {},
   "outputs": [],
   "source": [
    "arr = tupl(tf.Variable(90))"
   ]
  },
  {
   "cell_type": "code",
   "execution_count": 10,
   "metadata": {},
   "outputs": [
    {
     "data": {
      "text/plain": [
       "Tensor(elements=Array(90, dtype=int32, weak_type=True))"
      ]
     },
     "execution_count": 10,
     "metadata": {},
     "output_type": "execute_result"
    }
   ],
   "source": [
    "arr"
   ]
  },
  {
   "cell_type": "code",
   "execution_count": null,
   "metadata": {},
   "outputs": [],
   "source": []
  }
 ],
 "metadata": {
  "kernelspec": {
   "display_name": "TensorWrap",
   "language": "python",
   "name": "python3"
  },
  "language_info": {
   "codemirror_mode": {
    "name": "ipython",
    "version": 3
   },
   "file_extension": ".py",
   "mimetype": "text/x-python",
   "name": "python",
   "nbconvert_exporter": "python",
   "pygments_lexer": "ipython3",
   "version": "3.10.8"
  },
  "orig_nbformat": 4,
  "vscode": {
   "interpreter": {
    "hash": "da53633a286fdc5fa9862d67a3a85a7eec918dfea906e3018d3e6a5fef740b93"
   }
  }
 },
 "nbformat": 4,
 "nbformat_minor": 2
}
