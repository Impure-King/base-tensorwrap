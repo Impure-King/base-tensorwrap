{
 "cells": [
  {
   "cell_type": "code",
   "execution_count": 1,
   "metadata": {},
   "outputs": [
    {
     "name": "stderr",
     "output_type": "stream",
     "text": [
      "No GPU/TPU found, falling back to CPU. (Set TF_CPP_MIN_LOG_LEVEL=0 and rerun for more info.)\n"
     ]
    },
    {
     "data": {
      "text/plain": [
       "'0.0.0.3'"
      ]
     },
     "execution_count": 1,
     "metadata": {},
     "output_type": "execute_result"
    }
   ],
   "source": [
    "import tensorwrap as tf\n",
    "tf.__version__"
   ]
  },
  {
   "cell_type": "code",
   "execution_count": 2,
   "metadata": {},
   "outputs": [],
   "source": [
    "x_train = tf.range(start = 1, end = 1000, delta = 2)\n",
    "y_train = x_train + 10"
   ]
  },
  {
   "cell_type": "code",
   "execution_count": 3,
   "metadata": {},
   "outputs": [
    {
     "data": {
      "text/plain": [
       "Array([  11.,   13.,   15.,   17.,   19.,   21.,   23.,   25.,   27.,\n",
       "         29.,   31.,   33.,   35.,   37.,   39.,   41.,   43.,   45.,\n",
       "         47.,   49.,   51.,   53.,   55.,   57.,   59.,   61.,   63.,\n",
       "         65.,   67.,   69.,   71.,   73.,   75.,   77.,   79.,   81.,\n",
       "         83.,   85.,   87.,   89.,   91.,   93.,   95.,   97.,   99.,\n",
       "        101.,  103.,  105.,  107.,  109.,  111.,  113.,  115.,  117.,\n",
       "        119.,  121.,  123.,  125.,  127.,  129.,  131.,  133.,  135.,\n",
       "        137.,  139.,  141.,  143.,  145.,  147.,  149.,  151.,  153.,\n",
       "        155.,  157.,  159.,  161.,  163.,  165.,  167.,  169.,  171.,\n",
       "        173.,  175.,  177.,  179.,  181.,  183.,  185.,  187.,  189.,\n",
       "        191.,  193.,  195.,  197.,  199.,  201.,  203.,  205.,  207.,\n",
       "        209.,  211.,  213.,  215.,  217.,  219.,  221.,  223.,  225.,\n",
       "        227.,  229.,  231.,  233.,  235.,  237.,  239.,  241.,  243.,\n",
       "        245.,  247.,  249.,  251.,  253.,  255.,  257.,  259.,  261.,\n",
       "        263.,  265.,  267.,  269.,  271.,  273.,  275.,  277.,  279.,\n",
       "        281.,  283.,  285.,  287.,  289.,  291.,  293.,  295.,  297.,\n",
       "        299.,  301.,  303.,  305.,  307.,  309.,  311.,  313.,  315.,\n",
       "        317.,  319.,  321.,  323.,  325.,  327.,  329.,  331.,  333.,\n",
       "        335.,  337.,  339.,  341.,  343.,  345.,  347.,  349.,  351.,\n",
       "        353.,  355.,  357.,  359.,  361.,  363.,  365.,  367.,  369.,\n",
       "        371.,  373.,  375.,  377.,  379.,  381.,  383.,  385.,  387.,\n",
       "        389.,  391.,  393.,  395.,  397.,  399.,  401.,  403.,  405.,\n",
       "        407.,  409.,  411.,  413.,  415.,  417.,  419.,  421.,  423.,\n",
       "        425.,  427.,  429.,  431.,  433.,  435.,  437.,  439.,  441.,\n",
       "        443.,  445.,  447.,  449.,  451.,  453.,  455.,  457.,  459.,\n",
       "        461.,  463.,  465.,  467.,  469.,  471.,  473.,  475.,  477.,\n",
       "        479.,  481.,  483.,  485.,  487.,  489.,  491.,  493.,  495.,\n",
       "        497.,  499.,  501.,  503.,  505.,  507.,  509.,  511.,  513.,\n",
       "        515.,  517.,  519.,  521.,  523.,  525.,  527.,  529.,  531.,\n",
       "        533.,  535.,  537.,  539.,  541.,  543.,  545.,  547.,  549.,\n",
       "        551.,  553.,  555.,  557.,  559.,  561.,  563.,  565.,  567.,\n",
       "        569.,  571.,  573.,  575.,  577.,  579.,  581.,  583.,  585.,\n",
       "        587.,  589.,  591.,  593.,  595.,  597.,  599.,  601.,  603.,\n",
       "        605.,  607.,  609.,  611.,  613.,  615.,  617.,  619.,  621.,\n",
       "        623.,  625.,  627.,  629.,  631.,  633.,  635.,  637.,  639.,\n",
       "        641.,  643.,  645.,  647.,  649.,  651.,  653.,  655.,  657.,\n",
       "        659.,  661.,  663.,  665.,  667.,  669.,  671.,  673.,  675.,\n",
       "        677.,  679.,  681.,  683.,  685.,  687.,  689.,  691.,  693.,\n",
       "        695.,  697.,  699.,  701.,  703.,  705.,  707.,  709.,  711.,\n",
       "        713.,  715.,  717.,  719.,  721.,  723.,  725.,  727.,  729.,\n",
       "        731.,  733.,  735.,  737.,  739.,  741.,  743.,  745.,  747.,\n",
       "        749.,  751.,  753.,  755.,  757.,  759.,  761.,  763.,  765.,\n",
       "        767.,  769.,  771.,  773.,  775.,  777.,  779.,  781.,  783.,\n",
       "        785.,  787.,  789.,  791.,  793.,  795.,  797.,  799.,  801.,\n",
       "        803.,  805.,  807.,  809.,  811.,  813.,  815.,  817.,  819.,\n",
       "        821.,  823.,  825.,  827.,  829.,  831.,  833.,  835.,  837.,\n",
       "        839.,  841.,  843.,  845.,  847.,  849.,  851.,  853.,  855.,\n",
       "        857.,  859.,  861.,  863.,  865.,  867.,  869.,  871.,  873.,\n",
       "        875.,  877.,  879.,  881.,  883.,  885.,  887.,  889.,  891.,\n",
       "        893.,  895.,  897.,  899.,  901.,  903.,  905.,  907.,  909.,\n",
       "        911.,  913.,  915.,  917.,  919.,  921.,  923.,  925.,  927.,\n",
       "        929.,  931.,  933.,  935.,  937.,  939.,  941.,  943.,  945.,\n",
       "        947.,  949.,  951.,  953.,  955.,  957.,  959.,  961.,  963.,\n",
       "        965.,  967.,  969.,  971.,  973.,  975.,  977.,  979.,  981.,\n",
       "        983.,  985.,  987.,  989.,  991.,  993.,  995.,  997.,  999.,\n",
       "       1001., 1003., 1005., 1007., 1009.], dtype=float32)"
      ]
     },
     "execution_count": 3,
     "metadata": {},
     "output_type": "execute_result"
    }
   ],
   "source": [
    "y_train"
   ]
  },
  {
   "cell_type": "code",
   "execution_count": 4,
   "metadata": {},
   "outputs": [],
   "source": [
    "# Expanding the axis:\n",
    "x_train = tf.expand_dims(x_train, axis = 1)"
   ]
  },
  {
   "cell_type": "code",
   "execution_count": 5,
   "metadata": {},
   "outputs": [],
   "source": [
    "layer = tf.nn.layers.Dense(units = 1, input_shape = [1])"
   ]
  },
  {
   "cell_type": "code",
   "execution_count": 6,
   "metadata": {},
   "outputs": [],
   "source": [
    "model = tf.nn.Sequential([\n",
    "    layer,\n",
    "    layer\n",
    "])"
   ]
  },
  {
   "cell_type": "code",
   "execution_count": 7,
   "metadata": {},
   "outputs": [],
   "source": [
    "# Compiling the model:\n",
    "model.compile(\n",
    "    loss = tf.nn.losses.MSE,\n",
    "    optimizer = tf.nn.optimizers.SGD(learning_rate = 0.1),\n",
    "    accuracy = tf.nn.losses.MAE\n",
    ")"
   ]
  },
  {
   "cell_type": "code",
   "execution_count": 8,
   "metadata": {},
   "outputs": [],
   "source": [
    "model.fit(x_train = x_train, y_train = y_train, epochs = 100)"
   ]
  },
  {
   "cell_type": "code",
   "execution_count": null,
   "metadata": {},
   "outputs": [
    {
     "data": {
      "text/plain": [
       "Array(1782.4574, dtype=float32)"
      ]
     },
     "execution_count": 9,
     "metadata": {},
     "output_type": "execute_result"
    }
   ],
   "source": [
    "model.__call__(tf.Variable([99]))"
   ]
  },
  {
   "cell_type": "code",
   "execution_count": null,
   "metadata": {},
   "outputs": [
    {
     "data": {
      "text/plain": [
       "Array([1, 2, 3, 4, 5], dtype=int32)"
      ]
     },
     "execution_count": 9,
     "metadata": {},
     "output_type": "execute_result"
    }
   ],
   "source": [
    "tf.Variable([1, 2, 3, 4, 5])"
   ]
  },
  {
   "cell_type": "code",
   "execution_count": null,
   "metadata": {},
   "outputs": [
    {
     "data": {
      "text/plain": [
       "jax.Array"
      ]
     },
     "execution_count": 10,
     "metadata": {},
     "output_type": "execute_result"
    }
   ],
   "source": [
    "tf.jax.Array"
   ]
  },
  {
   "cell_type": "code",
   "execution_count": null,
   "metadata": {},
   "outputs": [],
   "source": [
    "tf.np.array"
   ]
  }
 ],
 "metadata": {
  "kernelspec": {
   "display_name": "TensorWrap",
   "language": "python",
   "name": "python3"
  },
  "language_info": {
   "codemirror_mode": {
    "name": "ipython",
    "version": 3
   },
   "file_extension": ".py",
   "mimetype": "text/x-python",
   "name": "python",
   "nbconvert_exporter": "python",
   "pygments_lexer": "ipython3",
   "version": "3.10.8"
  },
  "orig_nbformat": 4,
  "vscode": {
   "interpreter": {
    "hash": "087f40dff4324d7cfdf533de6cd08d0a5078eb4230684a53bb35630ba5e75359"
   }
  }
 },
 "nbformat": 4,
 "nbformat_minor": 2
}
