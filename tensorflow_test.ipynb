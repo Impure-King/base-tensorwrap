{
 "cells": [
  {
   "cell_type": "code",
   "execution_count": 1,
   "metadata": {},
   "outputs": [
    {
     "name": "stdout",
     "output_type": "stream",
     "text": [
      "env: TF_CPP_MIN_LOG_LEVEL=3\n"
     ]
    }
   ],
   "source": [
    "%env TF_CPP_MIN_LOG_LEVEL = 3\n",
    "import tensorflow as tf\n",
    "from tensorflow import keras"
   ]
  },
  {
   "cell_type": "markdown",
   "metadata": {},
   "source": [
    "# Array Tests:\n",
    "1. (10, 10) Pure Matmul: 52 µs ± 1.01 µs per loop (mean ± std. dev. of 7 runs, 10,000 loops each)\n",
    "2. (1e3, 1e4) Pure Matmul: 1.88 ms ± 5.21 µs per loop (mean ± std. dev. of 7 runs, 1,000 loops each)\n",
    "\n",
    "Out of memory if higher."
   ]
  },
  {
   "cell_type": "code",
   "execution_count": 2,
   "metadata": {},
   "outputs": [
    {
     "name": "stdout",
     "output_type": "stream",
     "text": [
      "52 µs ± 1.01 µs per loop (mean ± std. dev. of 7 runs, 10,000 loops each)\n"
     ]
    }
   ],
   "source": [
    "# Pure Matmul:\n",
    "a = tf.random.normal((10, 10))\n",
    "%timeit a @ a"
   ]
  },
  {
   "cell_type": "code",
   "execution_count": 3,
   "metadata": {},
   "outputs": [
    {
     "name": "stdout",
     "output_type": "stream",
     "text": [
      "1.88 ms ± 5.21 µs per loop (mean ± std. dev. of 7 runs, 1,000 loops each)\n"
     ]
    }
   ],
   "source": [
    "a = tf.random.normal((int(1e3), int(1e4)))\n",
    "%timeit a @ tf.transpose(a)"
   ]
  },
  {
   "cell_type": "markdown",
   "metadata": {},
   "source": [
    "# Transformation Tests:\n",
    "1. (1e2, 1e3) Jit matmul: \n",
    "\n",
    "282 µs ± 170 µs per loop (mean ± std. dev. of 7 runs, 1 loop each)\n",
    "\n",
    "155 µs ± 1.49 µs per loop (mean ± std. dev. of 7 runs, 10,000 loops each)"
   ]
  },
  {
   "cell_type": "code",
   "execution_count": 2,
   "metadata": {},
   "outputs": [
    {
     "name": "stdout",
     "output_type": "stream",
     "text": [
      "222 µs ± 56.9 µs per loop (mean ± std. dev. of 7 runs, 1 loop each)\n"
     ]
    }
   ],
   "source": [
    "@tf.function(jit_compile=True)\n",
    "def matmul():\n",
    "    a = tf.random.normal((int(1e2), int(1e3)))\n",
    "    return a @ tf.transpose(a)\n",
    "%timeit matmul()"
   ]
  },
  {
   "cell_type": "code",
   "execution_count": 3,
   "metadata": {},
   "outputs": [
    {
     "name": "stdout",
     "output_type": "stream",
     "text": [
      "167 µs ± 2.6 µs per loop (mean ± std. dev. of 7 runs, 10,000 loops each)\n"
     ]
    }
   ],
   "source": [
    "%timeit matmul()"
   ]
  },
  {
   "cell_type": "code",
   "execution_count": 2,
   "metadata": {},
   "outputs": [
    {
     "name": "stdout",
     "output_type": "stream",
     "text": [
      "446 µs ± 9.56 µs per loop (mean ± std. dev. of 7 runs, 1,000 loops each)\n"
     ]
    }
   ],
   "source": [
    "# Pure Autodiff:\n",
    "a = tf.random.normal((100, 1000))\n",
    "with tf.GradientTape(persistent=True) as tape:\n",
    "    tape.watch(a)\n",
    "    y = tf.matmul(a, tf.transpose(a))\n",
    "    y = tf.reduce_sum(y)\n",
    "%timeit tape.gradient(y, a)"
   ]
  },
  {
   "cell_type": "code",
   "execution_count": 2,
   "metadata": {},
   "outputs": [
    {
     "name": "stdout",
     "output_type": "stream",
     "text": [
      "210 µs ± 4.13 µs per loop (mean ± std. dev. of 7 runs, 1,000 loops each)\n"
     ]
    }
   ],
   "source": [
    "# Chained Autodiff:\n",
    "a = tf.random.normal((100, 1000))\n",
    "@tf.function(jit_compile=True)\n",
    "def fun(a):\n",
    "    with tf.GradientTape(persistent=True) as tape:\n",
    "        tape.watch(a)\n",
    "        y = tf.matmul(a, tf.transpose(a))\n",
    "        y = tf.reduce_sum(y)\n",
    "    return tape.gradient(y, a)\n",
    "%timeit fun(a)"
   ]
  },
  {
   "cell_type": "code",
   "execution_count": 3,
   "metadata": {},
   "outputs": [
    {
     "name": "stdout",
     "output_type": "stream",
     "text": [
      "203 µs ± 2.87 µs per loop (mean ± std. dev. of 7 runs, 1,000 loops each)\n"
     ]
    }
   ],
   "source": [
    "%timeit fun(a)"
   ]
  },
  {
   "cell_type": "code",
   "execution_count": null,
   "metadata": {},
   "outputs": [],
   "source": []
  }
 ],
 "metadata": {
  "kernelspec": {
   "display_name": "audio",
   "language": "python",
   "name": "python3"
  },
  "language_info": {
   "codemirror_mode": {
    "name": "ipython",
    "version": 3
   },
   "file_extension": ".py",
   "mimetype": "text/x-python",
   "name": "python",
   "nbconvert_exporter": "python",
   "pygments_lexer": "ipython3",
   "version": "3.11.6"
  }
 },
 "nbformat": 4,
 "nbformat_minor": 2
}
