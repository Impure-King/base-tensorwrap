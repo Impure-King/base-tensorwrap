{
 "cells": [
  {
   "cell_type": "code",
   "execution_count": 1,
   "metadata": {},
   "outputs": [],
   "source": [
    "import os\n",
    "os.environ[\"TF_CPP_MIN_LOG_LEVEL\"] = '3'"
   ]
  },
  {
   "cell_type": "code",
   "execution_count": 2,
   "metadata": {},
   "outputs": [],
   "source": [
    "import tensorflow as tf"
   ]
  },
  {
   "cell_type": "code",
   "execution_count": 3,
   "metadata": {},
   "outputs": [],
   "source": [
    "# Creating dataset:\n",
    "x_train = tf.range(1, 200, 2, dtype = tf.float32)\n",
    "y_train = x_train + 10"
   ]
  },
  {
   "cell_type": "code",
   "execution_count": 4,
   "metadata": {},
   "outputs": [],
   "source": [
    "# Creatings a model:\n",
    "model = tf.keras.models.Sequential([\n",
    "    tf.keras.layers.Dense(1, input_shape = [1])\n",
    "])\n",
    "model.compile(\n",
    "    loss = tf.keras.losses.mse,\n",
    "    optimizer = tf.keras.optimizers.legacy.SGD(),\n",
    "    metrics = tf.keras.losses.mae\n",
    ")"
   ]
  },
  {
   "cell_type": "code",
   "execution_count": 5,
   "metadata": {},
   "outputs": [
    {
     "name": "stdout",
     "output_type": "stream",
     "text": [
      "Epoch 1/10\n",
      "4/4 [==============================] - 1s 2ms/step - loss: 914576520763146240.0000 - mean_absolute_error: 192535824.0000\n",
      "Epoch 2/10\n",
      "4/4 [==============================] - 0s 3ms/step - loss: inf - mean_absolute_error: 1241371442625380352.0000                 \n",
      "Epoch 3/10\n",
      "4/4 [==============================] - 0s 3ms/step - loss: inf - mean_absolute_error: 5844770874672567824913793024.0000\n",
      "Epoch 4/10\n",
      "4/4 [==============================] - 0s 2ms/step - loss: inf - mean_absolute_error: inf                              \n",
      "Epoch 5/10\n",
      "4/4 [==============================] - 0s 2ms/step - loss: nan - mean_absolute_error: nan\n",
      "Epoch 6/10\n",
      "4/4 [==============================] - 0s 2ms/step - loss: nan - mean_absolute_error: nan\n",
      "Epoch 7/10\n",
      "4/4 [==============================] - 0s 2ms/step - loss: nan - mean_absolute_error: nan\n",
      "Epoch 8/10\n",
      "4/4 [==============================] - 0s 2ms/step - loss: nan - mean_absolute_error: nan\n",
      "Epoch 9/10\n",
      "4/4 [==============================] - 0s 2ms/step - loss: nan - mean_absolute_error: nan\n",
      "Epoch 10/10\n",
      "4/4 [==============================] - 0s 2ms/step - loss: nan - mean_absolute_error: nan\n"
     ]
    },
    {
     "data": {
      "text/plain": [
       "<keras.callbacks.History at 0x7ff8b2cc3eb0>"
      ]
     },
     "execution_count": 5,
     "metadata": {},
     "output_type": "execute_result"
    }
   ],
   "source": [
    "model.fit(x_train, y_train, epochs = 10)"
   ]
  },
  {
   "cell_type": "code",
   "execution_count": null,
   "metadata": {},
   "outputs": [],
   "source": []
  }
 ],
 "metadata": {
  "kernelspec": {
   "display_name": "TensorFlow",
   "language": "python",
   "name": "python3"
  },
  "language_info": {
   "codemirror_mode": {
    "name": "ipython",
    "version": 3
   },
   "file_extension": ".py",
   "mimetype": "text/x-python",
   "name": "python",
   "nbconvert_exporter": "python",
   "pygments_lexer": "ipython3",
   "version": "3.10.8"
  },
  "orig_nbformat": 4,
  "vscode": {
   "interpreter": {
    "hash": "96f15de52aa37c9b354eca37d7e2719c69267d54944717e5178beed509292a45"
   }
  }
 },
 "nbformat": 4,
 "nbformat_minor": 2
}
