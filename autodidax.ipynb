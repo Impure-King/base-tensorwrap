{
 "cells": [
  {
   "cell_type": "code",
   "execution_count": 1,
   "metadata": {},
   "outputs": [],
   "source": [
    "import tensorwrap as tf\n",
    "from tensorflow.experimental import numpy as np"
   ]
  },
  {
   "cell_type": "markdown",
   "metadata": {},
   "source": [
    "The goal is to transform a function, rather than inputs/outputs by using primitives. It will allow us to escape numerical limits and actually develop a proper system for integrating XLA."
   ]
  },
  {
   "cell_type": "code",
   "execution_count": 2,
   "metadata": {},
   "outputs": [],
   "source": [
    "# Defining the primitives:\n",
    "from typing import NamedTuple\n",
    "\n",
    "class Primitive(NamedTuple):\n",
    "    \"\"\"A template for generating primitive datatypes.\"\"\"\n",
    "    name: str"
   ]
  },
  {
   "cell_type": "code",
   "execution_count": 3,
   "metadata": {},
   "outputs": [],
   "source": [
    "# Basic Primitives\n",
    "add_p = Primitive(\"add\")\n",
    "mul_p = Primitive(\"mul\")\n",
    "neg_p = Primitive(\"neg\")\n",
    "sin_p = Primitive(\"sin\")\n",
    "cos_p = Primitive(\"cos\")\n",
    "reduce_sum_p = Primitive(\"reduce_sum\")\n",
    "greater_p = Primitive(\"greater\")\n",
    "less_p = Primitive(\"less\")\n",
    "transpose_p = Primitive(\"transpose\")\n",
    "broadcast_p = Primitive(\"broadcast\")"
   ]
  },
  {
   "cell_type": "code",
   "execution_count": 4,
   "metadata": {},
   "outputs": [],
   "source": [
    "# Wrapper Functions:\n",
    "def bind1(prim, *args, **params):\n",
    "    out, = bind(prim, *args, **params)\n",
    "    return out\n",
    "\n",
    "def add(x, y): return bind1(add_p, x, y)\n",
    "def mul(x, y): return bind1(mul_p, x, y)\n",
    "def neg(x): return bind1(neg_p, x)\n",
    "def sin(x): return bind1(sin_p, x)\n",
    "def cos(x): return bind1(cos_p, x)\n",
    "def greater(x, y): return bind1(greater_p, x, y)\n",
    "def less(x, y): return bind1(less_p, x, y)\n",
    "def transpose(x, perm): return bind1(transpose_p, x, perm=perm)\n",
    "def broadcast(x, shape, axes): return bind1(broadcast_p, x, shape=shape, axes=axes)\n",
    "def reduce_sum(x, axis=None):\n",
    "    axis = None or tuple(range(np.ndim((x))))\n",
    "    if type(axis) is int:\n",
    "        axis = (axis,)\n",
    "    return bind1(reduce_sum_p, x, axis=axis)"
   ]
  },
  {
   "cell_type": "markdown",
   "metadata": {},
   "source": [
    "So we have creator some wrapper functions that just call bind with the primitive and keyword parameters to intercept the function flow."
   ]
  },
  {
   "cell_type": "markdown",
   "metadata": {},
   "source": [
    "Now we create active interpreters as a stack of interpreters, or just a list."
   ]
  },
  {
   "cell_type": "code",
   "execution_count": null,
   "metadata": {},
   "outputs": [],
   "source": [
    "# Creating Interpreter stack:\n",
    "from collections.abc import Sequence\n",
    "from contextlib import contextmanager\n",
    "from typing import Optional, Any\n",
    "\n",
    "class TraceInterpreter(NamedTuple):\n",
    "    level: int\n",
    "    trace_type: type['Trace']\n",
    "    global_data: Optional[Any]\n",
    "\n",
    "trace_stack: list[TraceInterpreter] = []\n",
    "dynamic_trace: Optional[TraceInterpreter] = None # Will be used later\n",
    "\n",
    "@contextmanager\n",
    "def new_main(trace_type: type['Trace'], global_data = None):\n",
    "    level = len(trace_stack)\n",
    "    main = TraceInterpreter(level, trace_type, global_data)\n",
    "    trace_stack.append(main)\n",
    "    \n",
    "    try:\n",
    "        yield main\n",
    "    finally:\n",
    "        trace_stack.pop()"
   ]
  },
  {
   "cell_type": "markdown",
   "metadata": {},
   "source": [
    "With new_main, we can push interpreter onto the stack.\n",
    "After all the interpreters are stacked and optimized, we can just call and eval Interpreter."
   ]
  },
  {
   "cell_type": "code",
   "execution_count": null,
   "metadata": {},
   "outputs": [],
   "source": [
    "class Trace:\n",
    "    main: TraceInterpreter\n",
    "    \n",
    "    def __init__(self, main: TraceInterpreter) -> None:\n",
    "        self.main = main\n",
    "    \n",
    "    # Marked for override:\n",
    "    def pure(self, val): assert False\n",
    "    def lift(self, val): assert False\n",
    "    \n",
    "    def process_primitive(self, primitive, tracers, params):\n",
    "        assert False "
   ]
  }
 ],
 "metadata": {
  "kernelspec": {
   "display_name": "jax",
   "language": "python",
   "name": "python3"
  },
  "language_info": {
   "codemirror_mode": {
    "name": "ipython",
    "version": 3
   },
   "file_extension": ".py",
   "mimetype": "text/x-python",
   "name": "python",
   "nbconvert_exporter": "python",
   "pygments_lexer": "ipython3",
   "version": "3.11.7"
  }
 },
 "nbformat": 4,
 "nbformat_minor": 2
}
