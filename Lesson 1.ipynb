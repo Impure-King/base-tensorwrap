{
 "cells": [
  {
   "cell_type": "code",
   "execution_count": 1,
   "metadata": {},
   "outputs": [],
   "source": [
    "import tensorwrap as tw\n",
    "import jax.numpy as jnp\n",
    "from tensorwrap import nn"
   ]
  },
  {
   "cell_type": "code",
   "execution_count": 2,
   "metadata": {},
   "outputs": [
    {
     "name": "stderr",
     "output_type": "stream",
     "text": [
      "2023-09-08 20:51:12.144046: W tensorflow/compiler/tf2tensorrt/utils/py_utils.cc:38] TF-TRT Warning: Could not find TensorRT\n"
     ]
    }
   ],
   "source": [
    "# Loading the dataset:\n",
    "from tensorflow.keras import datasets\n",
    "(X_train, y_train), (X_test, y_test) = datasets.mnist.load_data()"
   ]
  },
  {
   "cell_type": "markdown",
   "metadata": {},
   "source": [
    "# Preprocessing the data:"
   ]
  },
  {
   "cell_type": "code",
   "execution_count": 3,
   "metadata": {},
   "outputs": [],
   "source": [
    "# Converting to tensor:\n",
    "X_train, X_test = tw.convert_to_tensor(X_train, tw.float32)/255., tw.convert_to_tensor(X_test, tw.float32)/255."
   ]
  },
  {
   "cell_type": "code",
   "execution_count": 4,
   "metadata": {},
   "outputs": [],
   "source": [
    "# Splitting data between validation and train_set:\n",
    "X_valid, X_train = X_train[55000:], X_train[:55000]\n",
    "y_valid, y_train = y_train[55000:], y_train[:55000]"
   ]
  },
  {
   "cell_type": "code",
   "execution_count": 5,
   "metadata": {},
   "outputs": [],
   "source": [
    "# Creating a class names list:\n",
    "class_names = [\"T-shirt\", \"Trouser\", \"Pullover\", \"Dress\", \"Coat\", \"Sandal\", \"Shirt\", \"Sneaker\", \"Bag\", \"Ankle Boot\"]"
   ]
  },
  {
   "cell_type": "code",
   "execution_count": 6,
   "metadata": {},
   "outputs": [],
   "source": [
    "X_train_batched, y_train_batched = tw.experimental.data.Dataset(X_train).batch(128), tw.experimental.data.Dataset(y_train).batch(128)"
   ]
  },
  {
   "cell_type": "markdown",
   "metadata": {},
   "source": [
    "# Building a Nueral Network:"
   ]
  },
  {
   "cell_type": "code",
   "execution_count": 7,
   "metadata": {},
   "outputs": [],
   "source": [
    "# Subclassing for all features:\n",
    "class Classifier(nn.Model):\n",
    "    def __init__(self, name: str = \"Classifier\") -> None:\n",
    "        super().__init__(name)\n",
    "        self.flatten = nn.layers.Flatten()\n",
    "        self.hidden_layers = [\n",
    "            nn.layers.Dense(300),\n",
    "            nn.activations.ReLU(),\n",
    "            nn.layers.Dense(100),\n",
    "            nn.activations.ReLU(),\n",
    "            nn.layers.Dense(10)\n",
    "        ]\n",
    "    \n",
    "    def call(self, params, inputs):\n",
    "        x = self.flatten(params, inputs)\n",
    "        for layer in self.hidden_layers:\n",
    "            x = layer(params, x)\n",
    "        return x"
   ]
  },
  {
   "cell_type": "code",
   "execution_count": 8,
   "metadata": {},
   "outputs": [],
   "source": [
    "model = Classifier()\n",
    "input_shape = tw.randn((1, 28, 28))\n",
    "params = model.init_params(input_shape)"
   ]
  },
  {
   "cell_type": "code",
   "execution_count": 9,
   "metadata": {},
   "outputs": [],
   "source": [
    "# Defining Loss Functions and optimizers and metrics:\n",
    "loss_fn = nn.losses.SparseCategoricalCrossentropy(from_logits=True)\n",
    "optimizer = nn.optimizers.adam(learning_rate=1e-3)\n",
    "state = optimizer.init(model.trainable_variables)"
   ]
  },
  {
   "cell_type": "code",
   "execution_count": 10,
   "metadata": {},
   "outputs": [],
   "source": [
    "# Creating a metrics:\n",
    "metrics = nn.losses.Accuracy()"
   ]
  },
  {
   "cell_type": "code",
   "execution_count": 11,
   "metadata": {},
   "outputs": [],
   "source": [
    "train_state = nn.models.Train(model, loss_fn, optimizer, metrics)"
   ]
  },
  {
   "cell_type": "code",
   "execution_count": 17,
   "metadata": {},
   "outputs": [
    {
     "name": "stdout",
     "output_type": "stream",
     "text": [
      "Epoch 1/5\n",
      "429/429 [==============================>]    -    loss: 21.59295    -    metric: 80.46875    -    val_loss: 17.16390    -    val_loss: 83.14000\n",
      "\n",
      "Epoch 2/5\n",
      "429/429 [==============================>]    -    loss: 20.81426    -    metric: 75.00000    -    val_loss: 37.66552    -    val_loss: 74.80000\n",
      "\n",
      "Epoch 3/5\n",
      "429/429 [==============================>]    -    loss: 15.98670    -    metric: 76.56250    -    val_loss: 17.64361    -    val_loss: 85.64000\n",
      "\n",
      "Epoch 4/5\n",
      "429/429 [==============================>]    -    loss: 34.41030    -    metric: 82.03125    -    val_loss: 20.20567    -    val_loss: 84.24000\n",
      "\n",
      "Epoch 5/5\n",
      "429/429 [==============================>]    -    loss: 32.32131    -    metric: 79.68750    -    val_loss: 30.24812    -    val_loss: 79.74000\n",
      "\n"
     ]
    }
   ],
   "source": [
    "train_state.train(X_train, y_train, 5, 128, validation_data=(X_valid, y_valid))"
   ]
  },
  {
   "cell_type": "code",
   "execution_count": 13,
   "metadata": {},
   "outputs": [
    {
     "name": "stdout",
     "output_type": "stream",
     "text": [
      "1/1 [==============================>]    -    loss: 22.358171463012695    -    metric: 80.17000579833984"
     ]
    }
   ],
   "source": [
    "train_state.evaluate(X_test, y_test)"
   ]
  },
  {
   "cell_type": "markdown",
   "metadata": {},
   "source": [
    "# Creating a training loop:"
   ]
  },
  {
   "cell_type": "code",
   "execution_count": 14,
   "metadata": {},
   "outputs": [],
   "source": [
    "@tw.value_and_grad\n",
    "def grad_fn(params, X, y):\n",
    "    pred = model(params, X)\n",
    "    return loss_fn(y, pred)\n",
    "\n",
    "\n",
    "@tw.function\n",
    "def update(params, state, X, y):\n",
    "    losses, grads = grad_fn(params, X, y)\n",
    "    updates, state = optimizer.update(grads, state, params)\n",
    "    params = nn.optimizers.apply_updates(params, updates)\n",
    "    return params, losses, state\n",
    "\n",
    "@tw.function\n",
    "def validation(params, X, y):\n",
    "    pred = model(params, X)\n",
    "    return metrics(y, pred)\n",
    "\n",
    "def train(epochs):\n",
    "    global state\n",
    "    for epoch in range(1, epochs+1):\n",
    "        print(f\"Epoch {epoch}/{epochs}\")\n",
    "        for index, (X, y) in enumerate(zip(X_train_batched, y_train_batched)): \n",
    "            model.trainable_variables, losses, state = update(model.trainable_variables, state, X, y)\n",
    "            accuracy = metrics(y, model(model.trainable_variables, X))\n",
    "            val_metrics = validation(model.trainable_variables, X_valid, y_valid)\n",
    "            model.loading_animation(X_train_batched.len(), index+1, losses, accuracy, val_metric=val_metrics)\n",
    "        print(\"\\n\")    "
   ]
  },
  {
   "cell_type": "code",
   "execution_count": 15,
   "metadata": {},
   "outputs": [
    {
     "name": "stdout",
     "output_type": "stream",
     "text": [
      "Epoch 1/10\n",
      "429/429 [==============================>]    -    loss: 26.36643    -    metric: 62.50000    -    val_loss: 66.50000\n",
      "\n",
      "Epoch 2/10\n",
      "429/429 [==============================>]    -    loss: 20.23694    -    metric: 75.78125    -    val_loss: 73.96000\n",
      "\n",
      "Epoch 3/10\n",
      "429/429 [==============================>]    -    loss: 27.01447    -    metric: 77.34375    -    val_loss: 78.68000\n",
      "\n",
      "Epoch 4/10\n",
      "429/429 [==============================>]    -    loss: 12.79009    -    metric: 82.03125    -    val_loss: 81.06000\n",
      "\n",
      "Epoch 5/10\n",
      "429/429 [==============================>]    -    loss: 25.15282    -    metric: 80.46875    -    val_loss: 83.25999\n",
      "\n",
      "Epoch 6/10\n",
      "429/429 [==============================>]    -    loss: 21.59295    -    metric: 80.46875    -    val_loss: 83.14000\n",
      "\n",
      "Epoch 7/10\n",
      "429/429 [==============================>]    -    loss: 20.81426    -    metric: 75.00000    -    val_loss: 74.80000\n",
      "\n",
      "Epoch 8/10\n",
      "429/429 [==============================>]    -    loss: 15.98670    -    metric: 76.56250    -    val_loss: 85.64000\n",
      "\n",
      "Epoch 9/10\n",
      "429/429 [==============================>]    -    loss: 34.41030    -    metric: 82.03125    -    val_loss: 84.24000\n",
      "\n",
      "Epoch 10/10\n",
      "429/429 [==============================>]    -    loss: 32.32131    -    metric: 79.68750    -    val_loss: 79.74000\n",
      "\n"
     ]
    }
   ],
   "source": [
    "train(10)"
   ]
  },
  {
   "cell_type": "code",
   "execution_count": 16,
   "metadata": {},
   "outputs": [
    {
     "name": "stdout",
     "output_type": "stream",
     "text": [
      "1/1 [==============================>]    -    loss: 36.937477111816406    -    metric: 77.5"
     ]
    }
   ],
   "source": [
    "model.evaluate(X_test, y_test, loss_fn=loss_fn, metric_fn=metrics)"
   ]
  }
 ],
 "metadata": {
  "kernelspec": {
   "display_name": "TensorWrap",
   "language": "python",
   "name": "python3"
  },
  "language_info": {
   "codemirror_mode": {
    "name": "ipython",
    "version": 3
   },
   "file_extension": ".py",
   "mimetype": "text/x-python",
   "name": "python",
   "nbconvert_exporter": "python",
   "pygments_lexer": "ipython3",
   "version": "3.11.4"
  },
  "orig_nbformat": 4
 },
 "nbformat": 4,
 "nbformat_minor": 2
}
