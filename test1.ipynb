{
 "cells": [
  {
   "cell_type": "code",
   "execution_count": 1,
   "metadata": {},
   "outputs": [],
   "source": [
    "import os\n",
    "os.environ[\"TF_CPP_MIN_LOG_LEVEL\"] = '3'"
   ]
  },
  {
   "cell_type": "code",
   "execution_count": 2,
   "metadata": {},
   "outputs": [],
   "source": [
    "import tensorflow as tf\n",
    "from tensorflow import keras"
   ]
  },
  {
   "cell_type": "code",
   "execution_count": 3,
   "metadata": {},
   "outputs": [],
   "source": [
    "x = tf.range(1, int(1e5))\n",
    "x = tf.expand_dims(x, axis=1)\n",
    "y = x + 10"
   ]
  },
  {
   "cell_type": "code",
   "execution_count": 4,
   "metadata": {},
   "outputs": [],
   "source": [
    "model = keras.Sequential([\n",
    "    keras.layers.Dense(10),\n",
    "    keras.layers.Dense(1)\n",
    "])\n",
    "loss=tf.keras.losses.mse,\n",
    "optimizer = tf.keras.optimizers.SGD()"
   ]
  },
  {
   "cell_type": "code",
   "execution_count": 5,
   "metadata": {},
   "outputs": [],
   "source": [
    "@tf.function\n",
    "def training_loop():\n",
    "    with tf.GradientTape() as tape:\n",
    "            y_pred = model(x)\n",
    "            losses = tf.keras.losses.mse(y, y_pred)\n",
    "    grads = tape.gradient(losses, model.trainable_variables)\n",
    "    optimizer.apply_gradients(zip(grads, model.trainable_variables))\n",
    "    return losses\n",
    "@tf.function\n",
    "def train():\n",
    "    epochs = 100\n",
    "    for epoch in range(epochs):\n",
    "        losses = training_loop()\n",
    "        print(f\"Epoch {epoch} : {losses}\")"
   ]
  },
  {
   "cell_type": "code",
   "execution_count": 6,
   "metadata": {},
   "outputs": [
    {
     "name": "stdout",
     "output_type": "stream",
     "text": [
      "Epoch 0 : Tensor(\"StatefulPartitionedCall:0\", shape=(99999,), dtype=float32)\n",
      "Epoch 1 : Tensor(\"StatefulPartitionedCall_1:0\", shape=(99999,), dtype=float32)\n",
      "Epoch 2 : Tensor(\"StatefulPartitionedCall_2:0\", shape=(99999,), dtype=float32)\n",
      "Epoch 3 : Tensor(\"StatefulPartitionedCall_3:0\", shape=(99999,), dtype=float32)\n",
      "Epoch 4 : Tensor(\"StatefulPartitionedCall_4:0\", shape=(99999,), dtype=float32)\n",
      "Epoch 5 : Tensor(\"StatefulPartitionedCall_5:0\", shape=(99999,), dtype=float32)\n",
      "Epoch 6 : Tensor(\"StatefulPartitionedCall_6:0\", shape=(99999,), dtype=float32)\n",
      "Epoch 7 : Tensor(\"StatefulPartitionedCall_7:0\", shape=(99999,), dtype=float32)\n",
      "Epoch 8 : Tensor(\"StatefulPartitionedCall_8:0\", shape=(99999,), dtype=float32)\n",
      "Epoch 9 : Tensor(\"StatefulPartitionedCall_9:0\", shape=(99999,), dtype=float32)\n",
      "Epoch 10 : Tensor(\"StatefulPartitionedCall_10:0\", shape=(99999,), dtype=float32)\n",
      "Epoch 11 : Tensor(\"StatefulPartitionedCall_11:0\", shape=(99999,), dtype=float32)\n",
      "Epoch 12 : Tensor(\"StatefulPartitionedCall_12:0\", shape=(99999,), dtype=float32)\n",
      "Epoch 13 : Tensor(\"StatefulPartitionedCall_13:0\", shape=(99999,), dtype=float32)\n",
      "Epoch 14 : Tensor(\"StatefulPartitionedCall_14:0\", shape=(99999,), dtype=float32)\n",
      "Epoch 15 : Tensor(\"StatefulPartitionedCall_15:0\", shape=(99999,), dtype=float32)\n",
      "Epoch 16 : Tensor(\"StatefulPartitionedCall_16:0\", shape=(99999,), dtype=float32)\n",
      "Epoch 17 : Tensor(\"StatefulPartitionedCall_17:0\", shape=(99999,), dtype=float32)\n",
      "Epoch 18 : Tensor(\"StatefulPartitionedCall_18:0\", shape=(99999,), dtype=float32)\n",
      "Epoch 19 : Tensor(\"StatefulPartitionedCall_19:0\", shape=(99999,), dtype=float32)\n",
      "Epoch 20 : Tensor(\"StatefulPartitionedCall_20:0\", shape=(99999,), dtype=float32)\n",
      "Epoch 21 : Tensor(\"StatefulPartitionedCall_21:0\", shape=(99999,), dtype=float32)\n",
      "Epoch 22 : Tensor(\"StatefulPartitionedCall_22:0\", shape=(99999,), dtype=float32)\n",
      "Epoch 23 : Tensor(\"StatefulPartitionedCall_23:0\", shape=(99999,), dtype=float32)\n",
      "Epoch 24 : Tensor(\"StatefulPartitionedCall_24:0\", shape=(99999,), dtype=float32)\n",
      "Epoch 25 : Tensor(\"StatefulPartitionedCall_25:0\", shape=(99999,), dtype=float32)\n",
      "Epoch 26 : Tensor(\"StatefulPartitionedCall_26:0\", shape=(99999,), dtype=float32)\n",
      "Epoch 27 : Tensor(\"StatefulPartitionedCall_27:0\", shape=(99999,), dtype=float32)\n",
      "Epoch 28 : Tensor(\"StatefulPartitionedCall_28:0\", shape=(99999,), dtype=float32)\n",
      "Epoch 29 : Tensor(\"StatefulPartitionedCall_29:0\", shape=(99999,), dtype=float32)\n",
      "Epoch 30 : Tensor(\"StatefulPartitionedCall_30:0\", shape=(99999,), dtype=float32)\n",
      "Epoch 31 : Tensor(\"StatefulPartitionedCall_31:0\", shape=(99999,), dtype=float32)\n",
      "Epoch 32 : Tensor(\"StatefulPartitionedCall_32:0\", shape=(99999,), dtype=float32)\n",
      "Epoch 33 : Tensor(\"StatefulPartitionedCall_33:0\", shape=(99999,), dtype=float32)\n",
      "Epoch 34 : Tensor(\"StatefulPartitionedCall_34:0\", shape=(99999,), dtype=float32)\n",
      "Epoch 35 : Tensor(\"StatefulPartitionedCall_35:0\", shape=(99999,), dtype=float32)\n",
      "Epoch 36 : Tensor(\"StatefulPartitionedCall_36:0\", shape=(99999,), dtype=float32)\n",
      "Epoch 37 : Tensor(\"StatefulPartitionedCall_37:0\", shape=(99999,), dtype=float32)\n",
      "Epoch 38 : Tensor(\"StatefulPartitionedCall_38:0\", shape=(99999,), dtype=float32)\n",
      "Epoch 39 : Tensor(\"StatefulPartitionedCall_39:0\", shape=(99999,), dtype=float32)\n",
      "Epoch 40 : Tensor(\"StatefulPartitionedCall_40:0\", shape=(99999,), dtype=float32)\n",
      "Epoch 41 : Tensor(\"StatefulPartitionedCall_41:0\", shape=(99999,), dtype=float32)\n",
      "Epoch 42 : Tensor(\"StatefulPartitionedCall_42:0\", shape=(99999,), dtype=float32)\n",
      "Epoch 43 : Tensor(\"StatefulPartitionedCall_43:0\", shape=(99999,), dtype=float32)\n",
      "Epoch 44 : Tensor(\"StatefulPartitionedCall_44:0\", shape=(99999,), dtype=float32)\n",
      "Epoch 45 : Tensor(\"StatefulPartitionedCall_45:0\", shape=(99999,), dtype=float32)\n",
      "Epoch 46 : Tensor(\"StatefulPartitionedCall_46:0\", shape=(99999,), dtype=float32)\n",
      "Epoch 47 : Tensor(\"StatefulPartitionedCall_47:0\", shape=(99999,), dtype=float32)\n",
      "Epoch 48 : Tensor(\"StatefulPartitionedCall_48:0\", shape=(99999,), dtype=float32)\n",
      "Epoch 49 : Tensor(\"StatefulPartitionedCall_49:0\", shape=(99999,), dtype=float32)\n",
      "Epoch 50 : Tensor(\"StatefulPartitionedCall_50:0\", shape=(99999,), dtype=float32)\n",
      "Epoch 51 : Tensor(\"StatefulPartitionedCall_51:0\", shape=(99999,), dtype=float32)\n",
      "Epoch 52 : Tensor(\"StatefulPartitionedCall_52:0\", shape=(99999,), dtype=float32)\n",
      "Epoch 53 : Tensor(\"StatefulPartitionedCall_53:0\", shape=(99999,), dtype=float32)\n",
      "Epoch 54 : Tensor(\"StatefulPartitionedCall_54:0\", shape=(99999,), dtype=float32)\n",
      "Epoch 55 : Tensor(\"StatefulPartitionedCall_55:0\", shape=(99999,), dtype=float32)\n",
      "Epoch 56 : Tensor(\"StatefulPartitionedCall_56:0\", shape=(99999,), dtype=float32)\n",
      "Epoch 57 : Tensor(\"StatefulPartitionedCall_57:0\", shape=(99999,), dtype=float32)\n",
      "Epoch 58 : Tensor(\"StatefulPartitionedCall_58:0\", shape=(99999,), dtype=float32)\n",
      "Epoch 59 : Tensor(\"StatefulPartitionedCall_59:0\", shape=(99999,), dtype=float32)\n",
      "Epoch 60 : Tensor(\"StatefulPartitionedCall_60:0\", shape=(99999,), dtype=float32)\n",
      "Epoch 61 : Tensor(\"StatefulPartitionedCall_61:0\", shape=(99999,), dtype=float32)\n",
      "Epoch 62 : Tensor(\"StatefulPartitionedCall_62:0\", shape=(99999,), dtype=float32)\n",
      "Epoch 63 : Tensor(\"StatefulPartitionedCall_63:0\", shape=(99999,), dtype=float32)\n",
      "Epoch 64 : Tensor(\"StatefulPartitionedCall_64:0\", shape=(99999,), dtype=float32)\n",
      "Epoch 65 : Tensor(\"StatefulPartitionedCall_65:0\", shape=(99999,), dtype=float32)\n",
      "Epoch 66 : Tensor(\"StatefulPartitionedCall_66:0\", shape=(99999,), dtype=float32)\n",
      "Epoch 67 : Tensor(\"StatefulPartitionedCall_67:0\", shape=(99999,), dtype=float32)\n",
      "Epoch 68 : Tensor(\"StatefulPartitionedCall_68:0\", shape=(99999,), dtype=float32)\n",
      "Epoch 69 : Tensor(\"StatefulPartitionedCall_69:0\", shape=(99999,), dtype=float32)\n",
      "Epoch 70 : Tensor(\"StatefulPartitionedCall_70:0\", shape=(99999,), dtype=float32)\n",
      "Epoch 71 : Tensor(\"StatefulPartitionedCall_71:0\", shape=(99999,), dtype=float32)\n",
      "Epoch 72 : Tensor(\"StatefulPartitionedCall_72:0\", shape=(99999,), dtype=float32)\n",
      "Epoch 73 : Tensor(\"StatefulPartitionedCall_73:0\", shape=(99999,), dtype=float32)\n",
      "Epoch 74 : Tensor(\"StatefulPartitionedCall_74:0\", shape=(99999,), dtype=float32)\n",
      "Epoch 75 : Tensor(\"StatefulPartitionedCall_75:0\", shape=(99999,), dtype=float32)\n",
      "Epoch 76 : Tensor(\"StatefulPartitionedCall_76:0\", shape=(99999,), dtype=float32)\n",
      "Epoch 77 : Tensor(\"StatefulPartitionedCall_77:0\", shape=(99999,), dtype=float32)\n",
      "Epoch 78 : Tensor(\"StatefulPartitionedCall_78:0\", shape=(99999,), dtype=float32)\n",
      "Epoch 79 : Tensor(\"StatefulPartitionedCall_79:0\", shape=(99999,), dtype=float32)\n",
      "Epoch 80 : Tensor(\"StatefulPartitionedCall_80:0\", shape=(99999,), dtype=float32)\n",
      "Epoch 81 : Tensor(\"StatefulPartitionedCall_81:0\", shape=(99999,), dtype=float32)\n",
      "Epoch 82 : Tensor(\"StatefulPartitionedCall_82:0\", shape=(99999,), dtype=float32)\n",
      "Epoch 83 : Tensor(\"StatefulPartitionedCall_83:0\", shape=(99999,), dtype=float32)\n",
      "Epoch 84 : Tensor(\"StatefulPartitionedCall_84:0\", shape=(99999,), dtype=float32)\n",
      "Epoch 85 : Tensor(\"StatefulPartitionedCall_85:0\", shape=(99999,), dtype=float32)\n",
      "Epoch 86 : Tensor(\"StatefulPartitionedCall_86:0\", shape=(99999,), dtype=float32)\n",
      "Epoch 87 : Tensor(\"StatefulPartitionedCall_87:0\", shape=(99999,), dtype=float32)\n",
      "Epoch 88 : Tensor(\"StatefulPartitionedCall_88:0\", shape=(99999,), dtype=float32)\n",
      "Epoch 89 : Tensor(\"StatefulPartitionedCall_89:0\", shape=(99999,), dtype=float32)\n",
      "Epoch 90 : Tensor(\"StatefulPartitionedCall_90:0\", shape=(99999,), dtype=float32)\n",
      "Epoch 91 : Tensor(\"StatefulPartitionedCall_91:0\", shape=(99999,), dtype=float32)\n",
      "Epoch 92 : Tensor(\"StatefulPartitionedCall_92:0\", shape=(99999,), dtype=float32)\n",
      "Epoch 93 : Tensor(\"StatefulPartitionedCall_93:0\", shape=(99999,), dtype=float32)\n",
      "Epoch 94 : Tensor(\"StatefulPartitionedCall_94:0\", shape=(99999,), dtype=float32)\n",
      "Epoch 95 : Tensor(\"StatefulPartitionedCall_95:0\", shape=(99999,), dtype=float32)\n",
      "Epoch 96 : Tensor(\"StatefulPartitionedCall_96:0\", shape=(99999,), dtype=float32)\n",
      "Epoch 97 : Tensor(\"StatefulPartitionedCall_97:0\", shape=(99999,), dtype=float32)\n",
      "Epoch 98 : Tensor(\"StatefulPartitionedCall_98:0\", shape=(99999,), dtype=float32)\n",
      "Epoch 99 : Tensor(\"StatefulPartitionedCall_99:0\", shape=(99999,), dtype=float32)\n",
      "51.5 ms ± 1.99 ms per loop (mean ± std. dev. of 7 runs, 1 loop each)\n"
     ]
    }
   ],
   "source": [
    "%timeit train()"
   ]
  }
 ],
 "metadata": {
  "kernelspec": {
   "display_name": "TensorFlow",
   "language": "python",
   "name": "python3"
  },
  "language_info": {
   "codemirror_mode": {
    "name": "ipython",
    "version": 3
   },
   "file_extension": ".py",
   "mimetype": "text/x-python",
   "name": "python",
   "nbconvert_exporter": "python",
   "pygments_lexer": "ipython3",
   "version": "3.10.8"
  },
  "orig_nbformat": 4
 },
 "nbformat": 4,
 "nbformat_minor": 2
}
