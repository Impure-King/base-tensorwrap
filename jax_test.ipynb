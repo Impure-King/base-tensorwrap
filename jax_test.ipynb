{
 "cells": [
  {
   "cell_type": "code",
   "execution_count": 1,
   "metadata": {},
   "outputs": [],
   "source": [
    "import tensorwrap as tw\n",
    "from tensorwrap import nn"
   ]
  },
  {
   "cell_type": "markdown",
   "metadata": {},
   "source": [
    "# Array Tests:\n",
    "1. (10, 10) Pure Matmul: 30.9 µs ± 342 ns per loop (mean ± std. dev. of 7 runs, 10,000 loops each)\n",
    "2. (1e3, 1e4) Pure Matmul: 1.9 ms ± 5.05 µs per loop (mean ± std. dev. of 7 runs, 1,000 loops each)\n",
    "\n",
    "Out of memory if higher."
   ]
  },
  {
   "cell_type": "code",
   "execution_count": 2,
   "metadata": {},
   "outputs": [
    {
     "name": "stdout",
     "output_type": "stream",
     "text": [
      "30.9 µs ± 342 ns per loop (mean ± std. dev. of 7 runs, 10,000 loops each)\n"
     ]
    }
   ],
   "source": [
    "# Pure Matmul:\n",
    "a = tw.randn((10, 10))\n",
    "%timeit a @ a"
   ]
  },
  {
   "cell_type": "code",
   "execution_count": 3,
   "metadata": {},
   "outputs": [
    {
     "name": "stdout",
     "output_type": "stream",
     "text": [
      "1.9 ms ± 5.05 µs per loop (mean ± std. dev. of 7 runs, 1,000 loops each)\n"
     ]
    }
   ],
   "source": [
    "# Pure Matmul:\n",
    "a = tw.randn((int(1e3), int(1e4)))\n",
    "%timeit a @ a.T"
   ]
  },
  {
   "cell_type": "markdown",
   "metadata": {},
   "source": [
    "# Transformation Tests:\n",
    "1. (1e2, 1e3) Jit matmul: \n",
    "\n",
    "136 µs ± 40.1 µs per loop (mean ± std. dev. of 7 runs, 1 loop each)\n",
    "\n",
    "94.5 µs ± 2.28 µs per loop (mean ± std. dev. of 7 runs, 10,000 loops each)"
   ]
  },
  {
   "cell_type": "code",
   "execution_count": 2,
   "metadata": {},
   "outputs": [
    {
     "name": "stdout",
     "output_type": "stream",
     "text": [
      "136 µs ± 40.1 µs per loop (mean ± std. dev. of 7 runs, 1 loop each)\n"
     ]
    }
   ],
   "source": [
    "@tw.function\n",
    "def matmul():\n",
    "    a = tw.randn((int(1e2), int(1e3)))\n",
    "    return a @ a.T\n",
    "%timeit matmul()"
   ]
  },
  {
   "cell_type": "code",
   "execution_count": 3,
   "metadata": {},
   "outputs": [
    {
     "name": "stdout",
     "output_type": "stream",
     "text": [
      "94.5 µs ± 2.28 µs per loop (mean ± std. dev. of 7 runs, 10,000 loops each)\n"
     ]
    }
   ],
   "source": [
    "%timeit matmul()"
   ]
  },
  {
   "cell_type": "code",
   "execution_count": 2,
   "metadata": {},
   "outputs": [
    {
     "name": "stdout",
     "output_type": "stream",
     "text": [
      "2.38 ms ± 541 µs per loop (mean ± std. dev. of 7 runs, 1 loop each)\n"
     ]
    }
   ],
   "source": [
    "# Pure Autodiff:\n",
    "@tw.grad\n",
    "def grad_fn(x):\n",
    "    return tw.sum(x @ x.T)\n",
    "\n",
    "a = tw.randn((100, 1000))\n",
    "%timeit grad_fn(a)"
   ]
  },
  {
   "cell_type": "code",
   "execution_count": 2,
   "metadata": {},
   "outputs": [
    {
     "name": "stdout",
     "output_type": "stream",
     "text": [
      "103 µs ± 1.6 µs per loop (mean ± std. dev. of 7 runs, 10,000 loops each)\n"
     ]
    }
   ],
   "source": [
    "# Chained Autodiff:\n",
    "@tw.function\n",
    "@tw.grad\n",
    "def grad_fn(x):\n",
    "    return tw.sum(x @ x.T)\n",
    "\n",
    "a = tw.randn((100, 1000))\n",
    "%timeit grad_fn(a)"
   ]
  },
  {
   "cell_type": "code",
   "execution_count": 3,
   "metadata": {},
   "outputs": [
    {
     "name": "stdout",
     "output_type": "stream",
     "text": [
      "102 µs ± 946 ns per loop (mean ± std. dev. of 7 runs, 10,000 loops each)\n"
     ]
    }
   ],
   "source": [
    "%timeit grad_fn(a)"
   ]
  },
  {
   "cell_type": "code",
   "execution_count": null,
   "metadata": {},
   "outputs": [],
   "source": []
  }
 ],
 "metadata": {
  "kernelspec": {
   "display_name": "TensorWrap",
   "language": "python",
   "name": "python3"
  },
  "language_info": {
   "codemirror_mode": {
    "name": "ipython",
    "version": 3
   },
   "file_extension": ".py",
   "mimetype": "text/x-python",
   "name": "python",
   "nbconvert_exporter": "python",
   "pygments_lexer": "ipython3",
   "version": "3.11.6"
  }
 },
 "nbformat": 4,
 "nbformat_minor": 2
}
